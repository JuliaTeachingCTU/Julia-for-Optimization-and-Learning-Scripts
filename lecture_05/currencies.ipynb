{
 "cells": [
  {
   "cell_type": "markdown",
   "id": "bank-account",
   "metadata": {},
   "source": [
    "# Bank Account\n",
    "\n",
    "This section aims to show the real power of the Julia type system in combination with multiple dispatch. We will present it through an example where the goal is to create a structure that represents a bank account with the following properties:\n",
    "\n",
    "- The structure has two fields: `owner` and `transaction`.\n",
    "- It is possible to make transactions in different currencies.\n",
    "- All transactions are stored in the currency in which they were made.\n",
    "\n",
    "Before creating such a structure, we first define an abstract type `Currency` and its two concrete subtypes."
   ]
  },
  {
   "cell_type": "code",
   "execution_count": null,
   "id": "define-currency",
   "metadata": {},
   "outputs": [],
   "source": [
    "abstract type Currency end\n",
    "\n",
    "struct Euro <: Currency\n",
    "    value::Float64\n",
    "end\n",
    "\n",
    "struct Dollar <: Currency\n",
    "    value::Float64\n",
    "end"
   ]
  },
  {
   "cell_type": "markdown",
   "id": "currency-instances",
   "metadata": {},
   "source": [
    "Since `Euro` and `Dollar` are concrete types, we can create their instances and use `isa` to check that these instances are subtypes of `Currency`."
   ]
  },
  {
   "cell_type": "code",
   "execution_count": null,
   "id": "currency-examples",
   "metadata": {},
   "outputs": [],
   "source": [
    "Euro(1)\n",
    "isa(Dollar(2), Currency) # equivalent to typeof(Dollar(2)) <: Currency"
   ]
  },
  {
   "cell_type": "markdown",
   "id": "define-bankaccount",
   "metadata": {},
   "source": [
    "As `Currency` is an abstract type, we cannot create its instance. However, abstract types allow us to define generic functions that work for all their subtypes. We do so and define the `BankAccount` composite type."
   ]
  },
  {
   "cell_type": "code",
   "execution_count": null,
   "id": "bankaccount-struct",
   "metadata": {},
   "outputs": [],
   "source": [
    "struct BankAccount{C<:Currency}\n",
    "    owner::String\n",
    "    transaction::Vector{Currency}\n",
    "\n",
    "    function BankAccount(owner::String, C::Type{<:Currency})\n",
    "        return new{C}(owner, Currency[C(0)])\n",
    "    end\n",
    "end"
   ]
  },
  {
   "cell_type": "markdown",
   "id": "bankaccount-explanation",
   "metadata": {},
   "source": [
    "We will explain this type after creating its instance with the euro currency."
   ]
  },
  {
   "cell_type": "code",
   "execution_count": null,
   "id": "create-bankaccount",
   "metadata": {},
   "outputs": [],
   "source": [
    "b = BankAccount(\"Paul\", Euro)"
   ]
  },
  {
   "cell_type": "markdown",
   "id": "bankaccount-details",
   "metadata": {},
   "source": [
    "First, we observe that we use the `Euro` type (and not its instance) to instantiate the `BankAccount` type. The reason is the definition of the inner constructor for `BankAccount`, where the type annotation is `::Type{<:Currency}`. This is in contrast with `::Currency`. The former requires that the argument is a type, while the latter needs an instance.\n",
    "\n",
    "Second, `BankAccount` is a parametric type, as can be seen from `BankAccount{Euro}`. In our example, this parameter plays the role of the primary account currency.\n",
    "\n",
    "Third, due to the line `Currency[C(0)]` in the inner constructor, transactions are stored in a vector of type `Vector{Currency}`. The expression `C(0)` creates an instance of the currency `C` with zero value. The `Currency` type combined with the square brackets creates a vector that may contain instances of any subtypes of `Currency`. It is, therefore, possible to push a new transaction in a different currency to the `transaction` field."
   ]
  },
  {
   "cell_type": "code",
   "execution_count": null,
   "id": "push-transaction",
   "metadata": {},
   "outputs": [],
   "source": [
    "push!(b.transaction, Dollar(2))\n",
    "b"
   ]
  },
  {
   "cell_type": "markdown",
   "id": "currency-array",
   "metadata": {},
   "source": [
    "It is crucial to use `Currency` in `Currency[C(0)]`. Without it, we would create an array of type `C` only. We would not be able to add transactions in different currencies to this array as Julia could not convert the different currencies to `C`."
   ]
  },
  {
   "cell_type": "code",
   "execution_count": null,
   "id": "currency-array-error",
   "metadata": {},
   "outputs": [],
   "source": [
    "w = [Euro(0)]\n",
    "push!(w, Dollar(2))"
   ]
  },
  {
   "cell_type": "markdown",
   "id": "abstract-type-benefits",
   "metadata": {},
   "source": [
    "We used only the abstract type `Currency` to define the `BankAccount` type. This allows us to write generic code that is not constrained to one concrete type. We created an instance of `BankAccount` and added a new transaction. However, we cannot calculate an account balance (the sum of all transactions), and we cannot convert money from one currency to another. In the rest of the lecture, we will fix this, and we will also define basic arithmetic operations such as `+` or `-`."
   ]
  },
  {
   "cell_type": "markdown",
   "id": "containers-with-abstract-types",
   "metadata": {},
   "source": [
    "> **Note:** It is generally not good to use [containers with abstract element type](https://docs.julialang.org/en/v1/manual/performance-tips/#man-performance-abstract-container) as we did for storing transactions. We used it in the example above because we do not want to convert all transactions to a common currency. When we create an array from different types, the promotion system converts these types to their smallest supertype for efficient memory storage.\n",
    "\n",
    "```julia\n",
    "[Int32(123), 1, 1.5, 1.234f0]\n",
    "```\n",
    "\n",
    "The smallest supertype is `Float64`, and the result is `Array{Float64, 1}`. When we do not want to convert the variables, we must manually specify the resulting array supertype.\n",
    "\n",
    "```julia\n",
    "Real[Int32(123), 1, 1.5, 1.234f0]\n",
    "```\n",
    "\n",
    "In this case, the types of all elements are preserved."
   ]
  },
  {
   "cell_type": "markdown",
   "id": "custom-print",
   "metadata": {},
   "source": [
    "## Custom Print\n",
    "\n",
    "Each currency has its symbol, such as € for the euro. We will redefine the `show` function to print the currency in a prettier way. First, we define a new function `symbol` that returns the used currency symbol."
   ]
  },
  {
   "cell_type": "code",
   "execution_count": null,
   "id": "define-symbol",
   "metadata": {},
   "outputs": [],
   "source": [
    "symbol(T::Type{<:Currency}) = string(nameof(T))\n",
    "symbol(::Type{Euro}) = \"€\""
   ]
  },
  {
   "cell_type": "markdown",
   "id": "custom-show",
   "metadata": {},
   "source": [
    "We defined one method for all subtypes of `Currency` and one method for the `Euro` type. With the `symbol` function, we can define nicer printing by adding a new method to the `show` function from `Base`. It is possible to define a custom show function for different output formats. For example, it is possible to define different formatting for HTML output. The example below shows only basic usage; for more information, see the [official documentation](https://docs.julialang.org/en/v1/manual/types/#man-custom-pretty-printing).\n",
    "\n",
    "```julia\n",
    "Base.show(io::IO, c::C) where {C <: Currency} = print(io, c.value, \" \", symbol(C))\n",
    "```"
   ]
  },
  {
   "cell_type": "code",
   "execution_count": null,
   "id": "test-show",
   "metadata": {},
   "outputs": [],
   "source": [
    "Base.show(io::IO, c::C) where {C <: Currency} = print(io, c.value, \" \", symbol(C))\n",
    "\n",
    "Euro(1)\n",
    "Euro(1.5)"
   ]
  },
  {
   "cell_type": "markdown",
   "id": "exercise-dollar-symbol",
   "metadata": {},
   "source": [
    "### Exercise:\n",
    "\n",
    "Define a new method for the `symbol` function for `Dollar`.\n",
    "\n",
    "**Hint:** The dollar symbol `$` has a special meaning in Julia. To include it in a string, you can escape it with a backslash `\\` or use a raw string."
   ]
  },
  {
   "cell_type": "markdown",
   "id": "solution-dollar-symbol",
   "metadata": {},
   "source": [
    "<details>\n",
    "<summary><strong>Solution:</strong></summary>\n",
    "\n",
    "When adding a new method to the `symbol` function, we have to remember that we used the currency type for dispatch, i.e., we have to use `::Type{Dollar}` instead of `::Dollar` in the type annotation.\n",
    "\n",
    "```julia\n",
    "symbol(::Type{Dollar}) = \"\\$\"\n",
    "```\n",
    "\n",
    "Now we can check that everything works well.\n",
    "\n",
    "```julia\n",
    "Dollar(1)\n",
    "Dollar(1.5)\n",
    "```\n",
    "\n",
    "</details>"
   ]
  },
  {
   "cell_type": "code",
   "execution_count": null,
   "id": "define-dollar-symbol",
   "metadata": {},
   "outputs": [],
   "source": [
    "symbol(::Type{Dollar}) = \"\\$\"\n",
    "\n",
    "Dollar(1)\n",
    "Dollar(1.5)"
   ]
  },
  {
   "cell_type": "markdown",
   "id": "currency-conversion",
   "metadata": {},
   "source": [
    "## Conversion\n",
    "\n",
    "In the previous section, we have defined two currencies. A natural question is how to convert one currency to the other. In the real world, the exchange operation between currencies is not transitive. However, we assume that the **exchange rate is transitive** and there are no exchange costs.\n",
    "\n",
    "The simplest way to define conversions between the currencies is to define the conversion function for each pair of currencies. This can be done efficiently only for two currencies."
   ]
  },
  {
   "cell_type": "code",
   "execution_count": null,
   "id": "simple-conversion",
   "metadata": {},
   "outputs": [],
   "source": [
    "dollar2euro(c::Dollar) = Euro(0.83 * c.value)\n",
    "euro2dollar(c::Euro) = Dollar(c.value / 0.83)"
   ]
  },
  {
   "cell_type": "markdown",
   "id": "test-simple-conversion",
   "metadata": {},
   "source": [
    "We can check that the result is correct."
   ]
  },
  {
   "cell_type": "code",
   "execution_count": null,
   "id": "test-conversion",
   "metadata": {},
   "outputs": [],
   "source": [
    "eur = dollar2euro(Dollar(1.3))\n",
    "euro2dollar(eur)"
   ]
  },
  {
   "cell_type": "markdown",
   "id": "define-rate-function",
   "metadata": {},
   "source": [
    "Even though this is a way to write code, there is a more general way. We start with a conversion rate between two types."
   ]
  },
  {
   "cell_type": "code",
   "execution_count": null,
   "id": "define-rate",
   "metadata": {},
   "outputs": [],
   "source": [
    "rate(::Type{Euro}, ::Type{Dollar}) = 0.83"
   ]
  },
  {
   "cell_type": "markdown",
   "id": "define-rate-transitive",
   "metadata": {},
   "source": [
    "Transitivity implies that if one exchange rate is $r_{1 \\rightarrow 2}$, the opposite exchange rate equals $r_{2 \\rightarrow 1} = r_{1 \\rightarrow 2}^{-1}$. We create a generic function to define the exchange rate in the opposite direction."
   ]
  },
  {
   "cell_type": "code",
   "execution_count": null,
   "id": "define-rate-opposite",
   "metadata": {},
   "outputs": [],
   "source": [
    "rate(T::Type{<:Currency}, ::Type{Euro}) = 1 / rate(Euro, T)"
   ]
  },
  {
   "cell_type": "markdown",
   "id": "test-rate",
   "metadata": {},
   "source": [
    "If we use only the two methods above, it computes the exchange rate between `Dollar` and `Euro`."
   ]
  },
  {
   "cell_type": "code",
   "execution_count": null,
   "id": "test-rate-code",
   "metadata": {},
   "outputs": [],
   "source": [
    "rate(Euro, Dollar)\n",
    "rate(Dollar, Euro)"
   ]
  },
  {
   "cell_type": "markdown",
   "id": "rate-same-currency",
   "metadata": {},
   "source": [
    "However, the definition is not complete because the `rate` function does not work if we use the same currencies."
   ]
  },
  {
   "cell_type": "code",
   "execution_count": null,
   "id": "rate-same-error",
   "metadata": {},
   "outputs": [],
   "source": [
    "rate(Euro, Euro)\n",
    "rate(Dollar, Dollar)"
   ]
  },
  {
   "cell_type": "markdown",
   "id": "define-rate-same",
   "metadata": {},
   "source": [
    "To solve this issue, we have to add two new methods. The first one defines that the exchange rate between the same currency is `1`."
   ]
  },
  {
   "cell_type": "code",
   "execution_count": null,
   "id": "define-rate-same-code",
   "metadata": {},
   "outputs": [],
   "source": [
    "rate(::Type{T}, ::Type{T}) where {T<:Currency} = 1"
   ]
  },
  {
   "cell_type": "markdown",
   "id": "rate-same-fixed",
   "metadata": {},
   "source": [
    "This method solves the issue for the `Dollar` to `Dollar` conversion."
   ]
  },
  {
   "cell_type": "code",
   "execution_count": null,
   "id": "test-rate-same",
   "metadata": {},
   "outputs": [],
   "source": [
    "rate(Dollar, Dollar)"
   ]
  },
  {
   "cell_type": "markdown",
   "id": "rate-euro-euro-issue",
   "metadata": {},
   "source": [
    "However, it does not solve the problem with `Euro` to `Euro` conversion."
   ]
  },
  {
   "cell_type": "code",
   "execution_count": null,
   "id": "test-rate-euro-euro",
   "metadata": {},
   "outputs": [],
   "source": [
    "rate(Euro, Euro)"
   ]
  },
  {
   "cell_type": "markdown",
   "id": "define-rate-euro-euro",
   "metadata": {},
   "source": [
    "To fix this, we add a specific method for `Euro` to `Euro`."
   ]
  },
  {
   "cell_type": "code",
   "execution_count": null,
   "id": "fix-rate-euro-euro",
   "metadata": {},
   "outputs": [],
   "source": [
    "rate(::Type{Euro}, ::Type{Euro}) = 1"
   ]
  },
  {
   "cell_type": "markdown",
   "id": "test-rate-euro-euro-fixed",
   "metadata": {},
   "source": [
    "This method solves the issue, as can be seen in the example below."
   ]
  },
  {
   "cell_type": "code",
   "execution_count": null,
   "id": "test-rate-euro-euro-fixed-code",
   "metadata": {},
   "outputs": [],
   "source": [
    "rate(Euro, Euro)"
   ]
  },
  {
   "cell_type": "markdown",
   "id": "rate-transitivity",
   "metadata": {},
   "source": [
    "The transitivity also implies that instead of converting the `C1` currency directly to the `C2` currency, we can convert it to some `C` and then convert `C` to `C2`. In our case, we use the `Euro` as the intermediate currency. When adding a new currency, it suffices to specify its exchange rate only to the euro."
   ]
  },
  {
   "cell_type": "code",
   "execution_count": null,
   "id": "define-rate-transitive-general",
   "metadata": {},
   "outputs": [],
   "source": [
    "rate(T::Type{<:Currency}, C::Type{<:Currency}) = rate(Euro, C) * rate(T, Euro)"
   ]
  },
  {
   "cell_type": "markdown",
   "id": "add-new-currency",
   "metadata": {},
   "source": [
    "To test the `rate` function, we add a new currency."
   ]
  },
  {
   "cell_type": "code",
   "execution_count": null,
   "id": "add-pound",
   "metadata": {},
   "outputs": [],
   "source": [
    "struct Pound <: Currency\n",
    "    value::Float64\n",
    "end\n",
    "\n",
    "symbol(::Type{Pound}) = \"£\"\n",
    "rate(::Type{Euro}, ::Type{Pound}) = 1.13"
   ]
  },
  {
   "cell_type": "markdown",
   "id": "test-new-rate",
   "metadata": {},
   "source": [
    "We can quickly test that the `rate` function works in all possible cases correctly in the following way."
   ]
  },
  {
   "cell_type": "code",
   "execution_count": null,
   "id": "test-rate-all",
   "metadata": {},
   "outputs": [],
   "source": [
    "rate(Pound, Pound) # 1\n",
    "rate(Euro, Pound) # 1.13\n",
    "rate(Pound, Euro) # 1/1.13\n",
    "rate(Dollar, Pound) # 1.13 * 1/0.83\n",
    "rate(Pound, Dollar) # 0.83 * 1/1.13"
   ]
  },
  {
   "cell_type": "markdown",
   "id": "define-convert-function",
   "metadata": {},
   "source": [
    "We have defined the `rate` function with all necessary methods. To convert currency types, we need to extend the `convert` function from `Base` by the following two methods:"
   ]
  },
  {
   "cell_type": "code",
   "execution_count": null,
   "id": "define-convert",
   "metadata": {},
   "outputs": [],
   "source": [
    "Base.convert(::Type{T}, c::T) where {T<:Currency} = c\n",
    "Base.convert(::Type{T}, c::C) where {T<:Currency, C<:Currency} = T(c.value * rate(T, C))"
   ]
  },
  {
   "cell_type": "markdown",
   "id": "test-convert-function",
   "metadata": {},
   "source": [
    "Finally, we test that the `convert` function indeed converts its input to a different type."
   ]
  },
  {
   "cell_type": "code",
   "execution_count": null,
   "id": "test-convert-code",
   "metadata": {},
   "outputs": [],
   "source": [
    "eur = convert(Euro, Dollar(1.3))\n",
    "pnd = convert(Pound, eur)\n",
    "dlr = convert(Dollar, pnd)"
   ]
  },
  {
   "cell_type": "markdown",
   "id": "exercise-rounding",
   "metadata": {},
   "source": [
    "### Exercise:\n",
    "\n",
    "The printing style is not ideal because we are usually not interested in more than the first two digits after the decimal point. Redefine the method in the `show` function to print currencies so that the result is rounded to 2 digits after the decimal point."
   ]
  },
  {
   "cell_type": "markdown",
   "id": "solution-rounding",
   "metadata": {},
   "source": [
    "<details>\n",
    "<summary><strong>Solution:</strong></summary>\n",
    "\n",
    "Any real number can be rounded to 2 digits after the decimal point by the `round` function with the keyword argument `digits = 2`. Then we can use an almost identical definition of the method as before.\n",
    "\n",
    "```julia\n",
    "function Base.show(io::IO, c::T) where {T <: Currency}\n",
    "    val = round(c.value; digits = 2)\n",
    "    return print(io, val, \" \", symbol(T))\n",
    "end\n",
    "```\n",
    "\n",
    "The same code as before this example gives the following results.\n",
    "\n",
    "```julia\n",
    "eur = convert(Euro, Dollar(1.3))\n",
    "pnd = convert(Pound, eur)\n",
    "dlr = convert(Dollar, pnd)\n",
    "```\n",
    "\n",
    "We realize that the rounding is done only for printing, while the original value remains unchanged.\n",
    "\n",
    "</details>"
   ]
  },
  {
   "cell_type": "code",
   "execution_count": null,
   "id": "define-show-rounded",
   "metadata": {},
   "outputs": [],
   "source": [
    "function Base.show(io::IO, c::T) where {T <: Currency}\n",
    "    val = round(c.value; digits = 2)\n",
    "    return print(io, val, \" \", symbol(T))\n",
    "end\n",
    "\n",
    "eur = convert(Euro, Dollar(1.3))\n",
    "pnd = convert(Pound, eur)\n",
    "dlr = convert(Dollar, pnd)"
   ]
  },
  {
   "cell_type": "markdown",
   "id": "promotion",
   "metadata": {},
   "source": [
    "## Promotion\n",
    "\n",
    "Before defining basic arithmetic operations for currencies, we have to decide how to work with money in different currencies. Imagine that we want to add `1€` and `1$`. Should the result be euro or dollar? For such a situation, Julia provides a promotion system that allows defining simple rules for promoting custom types. The promotion system can be modified by defining custom methods for the `promote_rule` function. For example, the following definition means that the euro has precedence against all other currencies."
   ]
  },
  {
   "cell_type": "code",
   "execution_count": null,
   "id": "define-promote-rule",
   "metadata": {},
   "outputs": [],
   "source": [
    "Base.promote_rule(::Type{Euro}, ::Type{<:Currency}) = Euro"
   ]
  },
  {
   "cell_type": "markdown",
   "id": "additional-promote-rules",
   "metadata": {},
   "source": [
    "Since we have three different currencies, we also define the promotion type for the pair `Dollar` and `Pound`."
   ]
  },
  {
   "cell_type": "code",
   "execution_count": null,
   "id": "define-promote-rule-dollar-pound",
   "metadata": {},
   "outputs": [],
   "source": [
    "Base.promote_rule(::Type{Dollar}, ::Type{Pound}) = Dollar"
   ]
  },
  {
   "cell_type": "markdown",
   "id": "test-promote-type",
   "metadata": {},
   "source": [
    "The `promote_rule` function is used as a building block for the `promote_type` function, which returns the promoted type of inputs."
   ]
  },
  {
   "cell_type": "code",
   "execution_count": null,
   "id": "test-promote-type-code",
   "metadata": {},
   "outputs": [],
   "source": [
    "promote_type(Euro, Dollar)\n",
    "promote_type(Pound, Dollar)\n",
    "promote_type(Pound, Dollar, Euro)"
   ]
  },
  {
   "cell_type": "markdown",
   "id": "test-promote",
   "metadata": {},
   "source": [
    "When we have instances instead of types, we can use the `promote` function to convert them to their representation in the promoted type."
   ]
  },
  {
   "cell_type": "code",
   "execution_count": null,
   "id": "test-promote-code",
   "metadata": {},
   "outputs": [],
   "source": [
    "promote(Euro(2), Dollar(2.4))\n",
    "promote(Pound(1.3), Euro(2))\n",
    "promote(Pound(1.3), Dollar(2.4), Euro(2))"
   ]
  },
  {
   "cell_type": "markdown",
   "id": "exercise-czechcrown",
   "metadata": {},
   "source": [
    "### Exercise:\n",
    "\n",
    "Define a new currency `CzechCrown` representing Czech crowns. The exchange rate to euro is `0.038`, and all other currencies should take precedence over the Czech crown."
   ]
  },
  {
   "cell_type": "markdown",
   "id": "solution-czechcrown",
   "metadata": {},
   "source": [
    "<details>\n",
    "<summary><strong>Solution:</strong></summary>\n",
    "\n",
    "We define first the new type `CzechCrown`.\n",
    "\n",
    "```julia\n",
    "struct CzechCrown <: Currency\n",
    "    value::Float64\n",
    "end\n",
    "```\n",
    "\n",
    "We must add new methods for the `symbol` and `rate` functions.\n",
    "\n",
    "```julia\n",
    "symbol(::Type{CzechCrown}) = \"Kč\"\n",
    "rate(::Type{Euro}, ::Type{CzechCrown}) = 0.038\n",
    "```\n",
    "\n",
    "We also must add promotion rules for the dollar and pound.\n",
    "\n",
    "```julia\n",
    "Base.promote_rule(::Type{CzechCrown}, ::Type{Dollar}) = Dollar\n",
    "Base.promote_rule(::Type{CzechCrown}, ::Type{Pound}) = Pound\n",
    "```\n",
    "\n",
    "Finally, we can test the functionality.\n",
    "\n",
    "```julia\n",
    "CzechCrown(2.8)\n",
    "dl = convert(Dollar, CzechCrown(64))\n",
    "convert(CzechCrown, dl)\n",
    "promote(Pound(1.3), Dollar(2.4), Euro(2), CzechCrown(2.8))\n",
    "```\n",
    "\n",
    "</details>"
   ]
  },
  {
   "cell_type": "code",
   "execution_count": null,
   "id": "define-czechcrown",
   "metadata": {},
   "outputs": [],
   "source": [
    "struct CzechCrown <: Currency\n",
    "    value::Float64\n",
    "end\n",
    "\n",
    "symbol(::Type{CzechCrown}) = \"Kč\"\n",
    "rate(::Type{Euro}, ::Type{CzechCrown}) = 0.038\n",
    "\n",
    "Base.promote_rule(::Type{CzechCrown}, ::Type{Dollar}) = Dollar\n",
    "Base.promote_rule(::Type{CzechCrown}, ::Type{Pound}) = Pound\n",
    "\n",
    "CzechCrown(2.8)\n",
    "dl = convert(Dollar, CzechCrown(64))\n",
    "convert(CzechCrown, dl)\n",
    "promote(Pound(1.3), Dollar(2.4), Euro(2), CzechCrown(2.8))"
   ]
  },
  {
   "cell_type": "markdown",
   "id": "arithmetic-operations",
   "metadata": {},
   "source": [
    "## Basic Arithmetic Operations\n",
    "\n",
    "Now we are ready to define basic arithmetic operations. As usual, we can do this by adding a new method to standard functions. We start with the addition, where there are two cases to consider. The first one is the summation of two different currencies. In this case, we use the `promote` function to convert these two currencies to their promoted type."
   ]
  },
  {
   "cell_type": "code",
   "execution_count": null,
   "id": "define-addition",
   "metadata": {},
   "outputs": [],
   "source": [
    "Base.:+(x::Currency, y::Currency) = +(promote(x, y)...)"
   ]
  },
  {
   "cell_type": "markdown",
   "id": "define-addition-same",
   "metadata": {},
   "source": [
    "The second one is the summation of the same currency. In this case, we know the resulting currency, and we can sum the `value` fields."
   ]
  },
  {
   "cell_type": "code",
   "execution_count": null,
   "id": "define-addition-same-code",
   "metadata": {},
   "outputs": [],
   "source": [
    "Base.:+(x::T, y::T) where {T <: Currency} = T(x.value + y.value)"
   ]
  },
  {
   "cell_type": "markdown",
   "id": "test-addition",
   "metadata": {},
   "source": [
    "Now we can sum money in different currencies."
   ]
  },
  {
   "cell_type": "code",
   "execution_count": null,
   "id": "test-addition-code",
   "metadata": {},
   "outputs": [],
   "source": [
    "Dollar(1.3) + CzechCrown(4.5)\n",
    "CzechCrown(4.5) + Euro(3.2) + Pound(3.6) + Dollar(12)"
   ]
  },
  {
   "cell_type": "markdown",
   "id": "sum-function",
   "metadata": {},
   "source": [
    "Moreover, we can use, for example, the `sum` function without any additional changes."
   ]
  },
  {
   "cell_type": "code",
   "execution_count": null,
   "id": "sum-function-code",
   "metadata": {},
   "outputs": [],
   "source": [
    "sum([CzechCrown(4.5), Euro(3.2), Pound(3.6), Dollar(12)])"
   ]
  },
  {
   "cell_type": "markdown",
   "id": "broadcasting",
   "metadata": {},
   "source": [
    "Also, the broadcasting works natively for arrays of currencies."
   ]
  },
  {
   "cell_type": "code",
   "execution_count": null,
   "id": "broadcasting-code",
   "metadata": {},
   "outputs": [],
   "source": [
    "CzechCrown.([4.5, 2.4, 16.7, 18.3]) .+ Pound.([1.2, 2.6, 0.6, 1.8])"
   ]
  },
  {
   "cell_type": "markdown",
   "id": "broadcasting-issue",
   "metadata": {},
   "source": [
    "However, there is a problem if we want to sum a vector of currencies with one currency. In such a case, an error will occur."
   ]
  },
  {
   "cell_type": "code",
   "execution_count": null,
   "id": "broadcasting-error",
   "metadata": {},
   "outputs": [],
   "source": [
    "CzechCrown.([4.5, 2.4, 16.7, 18.3]) .+ Dollar(12)"
   ]
  },
  {
   "cell_type": "markdown",
   "id": "fix-broadcasting",
   "metadata": {},
   "source": [
    "The reason is that Julia assumes that custom structures are iterable. But in our case, all subtypes of the `Currency` type represent scalar values. This situation can be easily fixed by defining a new method to the `broadcastable` function from `Base`."
   ]
  },
  {
   "cell_type": "code",
   "execution_count": null,
   "id": "fix-broadcastable",
   "metadata": {},
   "outputs": [],
   "source": [
    "Base.broadcastable(c::Currency) = Ref(c)"
   ]
  },
  {
   "cell_type": "markdown",
   "id": "test-broadcasting-fixed",
   "metadata": {},
   "source": [
    "Now we can test if the broadcasting works as expected."
   ]
  },
  {
   "cell_type": "code",
   "execution_count": null,
   "id": "test-broadcasting-fixed-code",
   "metadata": {},
   "outputs": [],
   "source": [
    "CzechCrown.([4.5, 2.4, 16.7, 18.3]) .+ Dollar(12)"
   ]
  },
  {
   "cell_type": "markdown",
   "id": "exercise-arithmetic-operations",
   "metadata": {},
   "source": [
    "### Exercise:\n",
    "\n",
    "In the section above, we defined the addition for all subtypes of `Currency`. We also told the broadcasting system in Julia to treat all subtypes of the `Currency` as scalars. Follow the same pattern and define the following operations: `-`, `*`, `/`.\n",
    "\n",
    "**Hint:** Define only operations that make sense. For example, it makes sense to multiply `1 €` by 2 to get `2 €`. But it does not make sense to multiply `1 €` by `2 €`."
   ]
  },
  {
   "cell_type": "markdown",
   "id": "solution-arithmetic-operations",
   "metadata": {},
   "source": [
    "<details>\n",
    "<summary><strong>Solution:</strong></summary>\n",
    "\n",
    "The `-` operation can be defined exactly as the addition.\n",
    "\n",
    "```julia\n",
    "Base.:-(x::Currency, y::Currency) = -(promote(x, y)...) \n",
    "Base.:-(x::T, y::T) where {T <: Currency} = T(x.value - y.value)\n",
    "```\n",
    "\n",
    "The multiplication makes sense when multiplying a currency by a real number.\n",
    "\n",
    "```julia\n",
    "Base.:*(a::Real, x::T) where {T <: Currency} = T(a * x.value)\n",
    "Base.:*(x::T, a::Real) where {T <: Currency} = T(a * x.value)\n",
    "```\n",
    "\n",
    "Division can be defined similarly.\n",
    "\n",
    "```julia\n",
    "Base.:/(x::T, a::Real) where {T <: Currency} = T(x.value / a)\n",
    "```\n",
    "\n",
    "But it also makes sense to define the division of one amount of money by another amount of money in different currencies. In this case, the result is a real number representing their ratio.\n",
    "\n",
    "```julia\n",
    "Base.:/(x::Currency, y::Currency) = /(promote(x, y)...) \n",
    "Base.:/(x::T, y::T) where {T <: Currency} = x.value / y.value\n",
    "```\n",
    "\n",
    "</details>"
   ]
  },
  {
   "cell_type": "code",
   "execution_count": null,
   "id": "define-subtraction",
   "metadata": {},
   "outputs": [],
   "source": [
    "Base.:-(x::Currency, y::Currency) = -(promote(x, y)...) \n",
    "Base.:-(x::T, y::T) where {T <: Currency} = T(x.value - y.value)"
   ]
  },
  {
   "cell_type": "code",
   "execution_count": null,
   "id": "define-multiplication",
   "metadata": {},
   "outputs": [],
   "source": [
    "Base.:*(a::Real, x::T) where {T <: Currency} = T(a * x.value)\n",
    "Base.:*(x::T, a::Real) where {T <: Currency} = T(a * x.value)"
   ]
  },
  {
   "cell_type": "code",
   "execution_count": null,
   "id": "define-division",
   "metadata": {},
   "outputs": [],
   "source": [
    "Base.:/(x::T, a::Real) where {T <: Currency} = T(x.value / a)\n",
    "\n",
    "Base.:/(x::Currency, y::Currency) = /(promote(x, y)...) \n",
    "Base.:/(x::T, y::T) where {T <: Currency} = x.value / y.value"
   ]
  },
  {
   "cell_type": "markdown",
   "id": "currency-comparison",
   "metadata": {},
   "source": [
    "## Currency Comparison\n",
    "\n",
    "The last thing we should define is comparison operators. To provide full functionality, we have to add new methods to two functions. The first one is the value equality operator `==`. By default, it uses the following definition `==(x, y) = x === y`. The `===` operator determines whether `x` and `y` are identical, in the sense that no program could distinguish them."
   ]
  },
  {
   "cell_type": "code",
   "execution_count": null,
   "id": "test-equality",
   "metadata": {},
   "outputs": [],
   "source": [
    "Dollar(1) == Euro(0.83)\n",
    "Dollar(1) != Euro(0.83)"
   ]
  },
  {
   "cell_type": "markdown",
   "id": "define-equality",
   "metadata": {},
   "source": [
    "To allow this kind of comparison, we can define new methods to the `==` function as follows:"
   ]
  },
  {
   "cell_type": "code",
   "execution_count": null,
   "id": "define-equality-code",
   "metadata": {},
   "outputs": [],
   "source": [
    "Base.:(==)(x::Currency, y::Currency) = ==(promote(x, y)...) \n",
    "Base.:(==)(x::T, y::T) where {T <: Currency} = ==(x.value, y.value)"
   ]
  },
  {
   "cell_type": "markdown",
   "id": "test-equality-fixed",
   "metadata": {},
   "source": [
    "With these two methods defined, the comparison works as expected."
   ]
  },
  {
   "cell_type": "code",
   "execution_count": null,
   "id": "test-equality-fixed-code",
   "metadata": {},
   "outputs": [],
   "source": [
    "Dollar(1) == Euro(0.83)\n",
    "Dollar(1) != Euro(0.83)"
   ]
  },
  {
   "cell_type": "markdown",
   "id": "define-isless",
   "metadata": {},
   "source": [
    "The second function to extend is the `isless` function. In this case, the logic is the same as before: We want to compare values stored in the structure."
   ]
  },
  {
   "cell_type": "code",
   "execution_count": null,
   "id": "define-isless-code",
   "metadata": {},
   "outputs": [],
   "source": [
    "Base.isless(x::Currency, y::Currency) = isless(promote(x, y)...) \n",
    "Base.isless(x::T, y::T) where {T <: Currency} = isless(x.value, y.value)"
   ]
  },
  {
   "cell_type": "markdown",
   "id": "test-comparison",
   "metadata": {},
   "source": [
    "As can be seen below, all operations work as intended."
   ]
  },
  {
   "cell_type": "code",
   "execution_count": null,
   "id": "test-comparison-code",
   "metadata": {},
   "outputs": [],
   "source": [
    "Dollar(1) < Euro(0.83)\n",
    "Dollar(1) > Euro(0.83)\n",
    "Dollar(1) <= Euro(0.83)\n",
    "Dollar(1) >= Euro(0.83)"
   ]
  },
  {
   "cell_type": "markdown",
   "id": "test-other-functions",
   "metadata": {},
   "source": [
    "Other functions based only on comparison will work for all subtypes of `Currency` without any additional changes. Examples include `extrema`, `argmin`, or `sort` functions."
   ]
  },
  {
   "cell_type": "code",
   "execution_count": null,
   "id": "test-other-functions-code",
   "metadata": {},
   "outputs": [],
   "source": [
    "vals = Currency[CzechCrown(100), Euro(0.83), Pound(3.6), Dollar(1.2)]\n",
    "extrema(vals)\n",
    "argmin(vals)\n",
    "sort(vals)"
   ]
  },
  {
   "cell_type": "markdown",
   "id": "bankaccount-balance",
   "metadata": {},
   "source": [
    "## Back to the Bank Account\n",
    "\n",
    "In the previous sections, we defined all the functions and types needed for the `BankAccount` type and performed basic arithmetic and other operations on currencies.  For a bank account, we are primarily interested in its balance. Since we store all transactions in a vector, the account balance can be computed as a sum of the `transaction` field."
   ]
  },
  {
   "cell_type": "code",
   "execution_count": null,
   "id": "define-balance",
   "metadata": {},
   "outputs": [],
   "source": [
    "balance(b::BankAccount{C}) where {C} = convert(C, sum(b.transaction))"
   ]
  },
  {
   "cell_type": "markdown",
   "id": "test-balance",
   "metadata": {},
   "source": [
    "We convert the balance to the primary currency of the account."
   ]
  },
  {
   "cell_type": "code",
   "execution_count": null,
   "id": "test-balance-code",
   "metadata": {},
   "outputs": [],
   "source": [
    "b = BankAccount(\"Paul\", CzechCrown)\n",
    "balance(b)"
   ]
  },
  {
   "cell_type": "markdown",
   "id": "custom-bankaccount-print",
   "metadata": {},
   "source": [
    "Another thing that we can define is custom pretty-printing."
   ]
  },
  {
   "cell_type": "code",
   "execution_count": null,
   "id": "define-bankaccount-show",
   "metadata": {},
   "outputs": [],
   "source": [
    "function Base.show(io::IO, b::BankAccount{C}) where {C<:Currency}\n",
    "    println(io, \"Bank Account:\")\n",
    "    println(io, \"  - Owner: \", b.owner)\n",
    "    println(io, \"  - Primary currency: \", nameof(C))\n",
    "    println(io, \"  - Balance: \", balance(b))\n",
    "    print(io,   \"  - Number of transactions: \", length(b.transaction))\n",
    "end"
   ]
  },
  {
   "cell_type": "markdown",
   "id": "test-bankaccount-print",
   "metadata": {},
   "source": [
    "The previous method definition results in the following output."
   ]
  },
  {
   "cell_type": "code",
   "execution_count": null,
   "id": "test-bankaccount-print-code",
   "metadata": {},
   "outputs": [],
   "source": [
    "b"
   ]
  },
  {
   "cell_type": "markdown",
   "id": "define-functor",
   "metadata": {},
   "source": [
    "The last function that we define is the function that adds a new transaction into the given bank account. Even though it can be defined like any other function, we decided to use a special syntax. Since methods are associated with types, making any arbitrary Julia object \"callable\" is possible by adding methods to its type. Such \"callable\" objects are sometimes called \"functors\"."
   ]
  },
  {
   "cell_type": "code",
   "execution_count": null,
   "id": "define-functor-code",
   "metadata": {},
   "outputs": [],
   "source": [
    "function (b::BankAccount{T})(c::Currency) where {T}\n",
    "    balance(b) + c >= T(0) || throw(ArgumentError(\"Insufficient bank account balance.\"))\n",
    "    push!(b.transaction, c)\n",
    "    return\n",
    "end"
   ]
  },
  {
   "cell_type": "markdown",
   "id": "test-functor",
   "metadata": {},
   "source": [
    "The first thing in the function above is the check whether there is a sufficient account balance. If not, the function will throw an error. Otherwise, the function will push a new element to the `transaction` field."
   ]
  },
  {
   "cell_type": "code",
   "execution_count": null,
   "id": "test-functor-code",
   "metadata": {},
   "outputs": [],
   "source": [
    "b(Dollar(10))\n",
    "b(-2 * balance(b))\n",
    "b(Pound(10))\n",
    "b(Euro(23.6))\n",
    "b(CzechCrown(152))\n",
    "b"
   ]
  },
  {
   "cell_type": "markdown",
   "id": "transaction-details",
   "metadata": {},
   "source": [
    "Note that all transactions are stored in their original currency, as can be seen if we print the `transaction` field."
   ]
  },
  {
   "cell_type": "code",
   "execution_count": null,
   "id": "print-transactions",
   "metadata": {},
   "outputs": [],
   "source": [
    "b.transaction"
   ]
  }
 ],
 "metadata": {
  "kernelspec": {
   "display_name": "Julia",
   "language": "julia",
   "name": "julia"
  },
  "language_info": {
   "file_extension": ".jl",
   "mimetype": "application/julia",
   "name": "julia",
   "version": "1.6.0"
  }
 },
 "nbformat": 4,
 "nbformat_minor": 5
}
