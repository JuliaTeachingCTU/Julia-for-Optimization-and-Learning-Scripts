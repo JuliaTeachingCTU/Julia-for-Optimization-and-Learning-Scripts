{
 "cells": [
  {
   "cell_type": "markdown",
   "id": "abstract-types",
   "metadata": {},
   "source": [
    "# Abstract types\n",
    "\n",
    "Julia does not allow abstract types to be instantiated. They can only be used to create a logical hierarchy of types. The following figure shows this hierarchy for numeric types introduced in the first lecture.\n",
    "\n",
    "![Type Hierarchy](types.svg)\n",
    "\n",
    "> **Note:** The image `types.svg` needs to be in the same directory as this notebook for it to display correctly.\n",
    "\n",
    "All types depicted in blue are abstract types, and all green types are concrete types. For example, `Int8`, `Int16`, `Int32`, `Int64` and `Int128` are signed integer types, `UInt8`, `UInt16`, `UInt32`, `UInt64` and `UInt128` are unsigned integer types, while `Float16`, `Float32` and `Float64` are floating-point types. In many cases, the inputs must be of a specific type. An algorithm to find the greatest common denominator should work with any integer types, but it should not work for any floating-point inputs. Abstract types specify these cases and provide a context into which concrete types can fit."
   ]
  },
  {
   "cell_type": "code",
   "execution_count": 1,
   "id": "define-abstract-types",
   "metadata": {},
   "outputs": [],
   "source": [
    "abstract type Number end\n",
    "abstract type Real <: Number end\n",
    "abstract type AbstractFloat <: Real end\n",
    "abstract type AbstractIrrational <: Real end\n",
    "abstract type Integer <: Real end\n",
    "abstract type Signed <: Integer end\n",
    "abstract type Unsigned <: Integer end"
   ]
  },
  {
   "cell_type": "markdown",
   "id": "abstract-types-explanation",
   "metadata": {},
   "source": [
    "When no supertype is specified, such as for `Number`, the default supertype is `Any`. The `Any` type is sometimes called the *top* type since all types are its subtypes. The *bottom* type is `Union{}`, and all types are supertypes of `Union{}`.\n",
    "\n",
    "The `<:` operator can be used to check if the left operand is a subtype of the right operand."
   ]
  },
  {
   "cell_type": "code",
   "execution_count": null,
   "id": "subtype-operator",
   "metadata": {},
   "outputs": [],
   "source": [
    "Signed <: Integer\n",
    "Signed <: Number\n",
    "Signed <: AbstractFloat"
   ]
  },
  {
   "cell_type": "markdown",
   "id": "isa-function",
   "metadata": {},
   "source": [
    "Julia also provides the `isa` function, which checks if a variable is an instance of a type."
   ]
  },
  {
   "cell_type": "code",
   "execution_count": null,
   "id": "isa-examples",
   "metadata": {},
   "outputs": [],
   "source": [
    "isa(1, Int64) # equivalent to typeof(1) <: Int64"
   ]
  },
  {
   "cell_type": "code",
   "execution_count": null,
   "id": "d35b2576",
   "metadata": {},
   "outputs": [],
   "source": [
    "isa(1, Integer) # equivalent to typeof(1) <: Integer"
   ]
  },
  {
   "cell_type": "code",
   "execution_count": null,
   "id": "e3106454",
   "metadata": {},
   "outputs": [],
   "source": [
    "isa(1, AbstractFloat) # equivalent to typeof(1) <: AbstractFloat"
   ]
  },
  {
   "cell_type": "markdown",
   "id": "isabstracttype-isconcretetype",
   "metadata": {},
   "source": [
    "Other handy functions are `isabstracttype` and `isconcretetype` that check whether a type is abstract and concrete, respectively."
   ]
  },
  {
   "cell_type": "code",
   "execution_count": null,
   "id": "type-check-functions",
   "metadata": {},
   "outputs": [],
   "source": [
    "isabstracttype(Real)"
   ]
  },
  {
   "cell_type": "code",
   "execution_count": null,
   "id": "0040ccea",
   "metadata": {},
   "outputs": [],
   "source": [
    "isabstracttype(Float64)"
   ]
  },
  {
   "cell_type": "code",
   "execution_count": null,
   "id": "ead2ba61",
   "metadata": {},
   "outputs": [],
   "source": [
    "isconcretetype(Real)"
   ]
  },
  {
   "cell_type": "code",
   "execution_count": null,
   "id": "40c8c267",
   "metadata": {},
   "outputs": [],
   "source": [
    "isconcretetype(Float64)"
   ]
  },
  {
   "cell_type": "markdown",
   "id": "composite-types",
   "metadata": {},
   "source": [
    "# Composite types\n",
    "\n",
    "A composite type is a collection of key-value pairs. In many languages, composite types are the only kind of user-definable type. Even though Julia allows defining other types, composite types are used the most.\n",
    "Their main goal is to collect all information about one object within one structure. We will soon define the `Rectangle` type containing information about the size and the bottom-left point position of a rectangle. Collecting this information into one structure makes it simple to pass all information about the rectangle as arguments and use it for further computation. Moreover, it is possible to use composite types in combination with multiple-dispatch and define specialized functions for custom types.\n",
    "\n",
    "The `struct` keyword defines composite types. It is followed by the composite type name and field names, where the latter may be annotated with types."
   ]
  },
  {
   "cell_type": "code",
   "execution_count": 10,
   "id": "define-rectangle",
   "metadata": {},
   "outputs": [],
   "source": [
    "struct Rectangle\n",
    "    bottomleft::Vector{Float64}\n",
    "    width\n",
    "    height\n",
    "end"
   ]
  },
  {
   "cell_type": "markdown",
   "id": "rectangle-explanation",
   "metadata": {},
   "source": [
    "If the type annotation is omitted, `Any` is used, and such a field may contain any value. A Julia convention suggests making the first letter in custom type names uppercase. We can create a new instance of the above type by calling `Rectangle` as a function. Its input arguments represent the fields of the `Rectangle` type."
   ]
  },
  {
   "cell_type": "code",
   "execution_count": null,
   "id": "create-rectangle",
   "metadata": {},
   "outputs": [],
   "source": [
    "r = Rectangle([1,2], 3, 4)"
   ]
  },
  {
   "cell_type": "code",
   "execution_count": null,
   "id": "d1222843",
   "metadata": {},
   "outputs": [],
   "source": [
    "isa(r, Rectangle)"
   ]
  },
  {
   "cell_type": "markdown",
   "id": "rectangle-constructors",
   "metadata": {},
   "source": [
    "A constructor is calling a type as a function. Two constructors are automatically generated when a type is created. One accepts any arguments and converts them to the field types, and the other accepts arguments that match the field types exactly. If all fields are `Any`, only one constructor is generated. Julia creates these two constructors to make it easier to add new definitions without replacing the default constructor. We can list all constructors by the `methods` function."
   ]
  },
  {
   "cell_type": "code",
   "execution_count": null,
   "id": "rectangle-methods",
   "metadata": {},
   "outputs": [],
   "source": [
    "methods(Rectangle)"
   ]
  },
  {
   "cell_type": "markdown",
   "id": "rectangle-fields",
   "metadata": {},
   "source": [
    "The fields of composite types can be accessed via the dot notation similarly to named tuples or via the `getproperty` function."
   ]
  },
  {
   "cell_type": "code",
   "execution_count": null,
   "id": "access-fields",
   "metadata": {},
   "outputs": [],
   "source": [
    "r.width"
   ]
  },
  {
   "cell_type": "code",
   "execution_count": null,
   "id": "c2cc5bb1",
   "metadata": {},
   "outputs": [],
   "source": [
    "getproperty(r, :width)"
   ]
  },
  {
   "cell_type": "markdown",
   "id": "rectangle-functions",
   "metadata": {},
   "source": [
    "The fields can be then accessed anywhere, for example, within a function."
   ]
  },
  {
   "cell_type": "code",
   "execution_count": null,
   "id": "rectangle-functions-code",
   "metadata": {},
   "outputs": [],
   "source": [
    "area(r::Rectangle) = r.width * r.height\n",
    "\n",
    "function vertices(r::Rectangle)\n",
    "    x, y = r.bottomleft\n",
    "    w, h = r.width, r.height\n",
    "    return [[x, y], [x + w, y], [x + w, y + h], [x, y + h]]\n",
    "end"
   ]
  },
  {
   "cell_type": "code",
   "execution_count": null,
   "id": "4d83470d",
   "metadata": {},
   "outputs": [],
   "source": [
    "area(r)"
   ]
  },
  {
   "cell_type": "code",
   "execution_count": null,
   "id": "634ce587",
   "metadata": {},
   "outputs": [],
   "source": [
    "vertices(r)"
   ]
  },
  {
   "cell_type": "markdown",
   "id": "fieldnames-function",
   "metadata": {},
   "source": [
    "The convenient function `fieldnames` returns a tuple with names of all structure fields represented as symbols."
   ]
  },
  {
   "cell_type": "code",
   "execution_count": null,
   "id": "fieldnames-example",
   "metadata": {},
   "outputs": [],
   "source": [
    "fieldnames(Rectangle)"
   ]
  },
  {
   "cell_type": "code",
   "execution_count": null,
   "id": "ae5b558e",
   "metadata": {},
   "outputs": [],
   "source": [
    "fieldnames(typeof(r))"
   ]
  },
  {
   "cell_type": "markdown",
   "id": "comparison-with-python",
   "metadata": {},
   "source": [
    "### Comparison with Python:\n",
    "\n",
    "The same object can be defined in Python in the following way:\n",
    "\n",
    "```python\n",
    "class Rectangle:\n",
    "    def __init__(self, bottomleft, width, height):\n",
    "        self.bottomleft = bottomleft\n",
    "        self.width = width\n",
    "        self.height = height\n",
    "\n",
    "    def area(self):\n",
    "        return self.width * self.height\n",
    "\n",
    "    def vertices(self):\n",
    "        x, y = self.bottomleft\n",
    "        w, h = self.width, self.height\n",
    "        return [[x, y], [x + w, y], [x + w, y + h], [x, y + h]]\n",
    "```\n",
    "\n",
    "We can create an instance of this object and call the two functions defined in the class definition.\n",
    "\n",
    "```python\n",
    "r = Rectangle([1.0, 2.0], 3, 4)\n",
    "r.area()\n",
    "r.vertices()\n",
    "```\n",
    "\n",
    "The declaration of the `Rectangle` class is very similar to the one in Julia. The main difference is that in Python methods are bound to the class, while Julia defines functions outside of the composite types. This is very important since Julia uses multiple-dispatch. It means that functions consist of methods, and Julia decides which method to use based on the number of input arguments and its types. Since all arguments are used for method selection, it would be inappropriate for functions to \"belong\" to some composite type. As a consequence, we can modify existing methods or add new ones without the necessity to change the composite type definition. This property significantly improves code extensibility and reusability."
   ]
  },
  {
   "cell_type": "markdown",
   "id": "mutable-composite-types",
   "metadata": {},
   "source": [
    "## Mutable composite types\n",
    "\n",
    "Composite types declared with `struct` keyword are immutable and cannot be modified after being constructed."
   ]
  },
  {
   "cell_type": "code",
   "execution_count": null,
   "id": "immutable-error",
   "metadata": {},
   "outputs": [],
   "source": [
    "r.bottomleft = [2;2]"
   ]
  },
  {
   "cell_type": "markdown",
   "id": "immutability-explanation",
   "metadata": {},
   "source": [
    "An error occurs because `r` is an immutable object.\n",
    "\n",
    "However, immutability is not recursive. If an immutable object contains a mutable object, such as an array, elements of this mutable object can be modified. Even though `Rectangle` is an immutable type, its `bottomleft` field is a mutable array and can be changed."
   ]
  },
  {
   "cell_type": "code",
   "execution_count": null,
   "id": "modify-bottomleft",
   "metadata": {},
   "outputs": [],
   "source": [
    "r.bottomleft[1] = 5\n",
    "r.bottomleft"
   ]
  },
  {
   "cell_type": "code",
   "execution_count": null,
   "id": "7b570d22",
   "metadata": {},
   "outputs": [],
   "source": [
    "area(r)"
   ]
  },
  {
   "cell_type": "code",
   "execution_count": null,
   "id": "6ad24199",
   "metadata": {},
   "outputs": [],
   "source": [
    "vertices(r)"
   ]
  },
  {
   "cell_type": "markdown",
   "id": "mutable-struct",
   "metadata": {},
   "source": [
    "To allow changing their fields, we need to define composite types as mutable by adding the `mutable` keyword."
   ]
  },
  {
   "cell_type": "code",
   "execution_count": 55,
   "id": "define-mutable-rectangle",
   "metadata": {},
   "outputs": [],
   "source": [
    "mutable struct MutableRectangle\n",
    "    bottomleft::Vector{Float64}\n",
    "    width\n",
    "    height\n",
    "end"
   ]
  },
  {
   "cell_type": "code",
   "execution_count": null,
   "id": "create-mutable-rectangle",
   "metadata": {},
   "outputs": [],
   "source": [
    "mr = MutableRectangle([1,2], 3, 4)"
   ]
  },
  {
   "cell_type": "code",
   "execution_count": null,
   "id": "6d5ad11a",
   "metadata": {},
   "outputs": [],
   "source": [
    "isa(mr, MutableRectangle)"
   ]
  },
  {
   "cell_type": "code",
   "execution_count": null,
   "id": "modify-mutable-rectangle",
   "metadata": {},
   "outputs": [],
   "source": [
    "mr.width = 1.5\n",
    "setproperty!(mr, :height, 2.5)\n",
    "mr"
   ]
  },
  {
   "cell_type": "markdown",
   "id": "type-unions",
   "metadata": {},
   "source": [
    "### Type unions:\n",
    "\n",
    "The `area` function defined earlier will only work for `Rectangle` but not for `MutableRectangle` types. To define it for both types, we need type unions. The `Union` keyword creates a supertype of its inputs."
   ]
  },
  {
   "cell_type": "code",
   "execution_count": null,
   "id": "define-type-union",
   "metadata": {},
   "outputs": [],
   "source": [
    "const AbstractRectangle = Union{Rectangle, MutableRectangle}\n",
    "Rectangle <: AbstractRectangle\n",
    "MutableRectangle <: AbstractRectangle"
   ]
  },
  {
   "cell_type": "code",
   "execution_count": null,
   "id": "perimeter-function",
   "metadata": {},
   "outputs": [],
   "source": [
    "perimeter(r::AbstractRectangle) = 2*(r.width + r.height)\n",
    "perimeter(r)"
   ]
  },
  {
   "cell_type": "code",
   "execution_count": null,
   "id": "ef894086",
   "metadata": {},
   "outputs": [],
   "source": [
    "perimeter(mr)"
   ]
  },
  {
   "cell_type": "markdown",
   "id": "parametric-types",
   "metadata": {},
   "source": [
    "## Parametric types\n",
    "\n",
    "An important and powerful feature of the Julia type system is that it is parametric. Types can take parameters, and type declarations introduce a whole family of new types (one for each possible combination of parameter values). Parametric (abstract) types can be defined as follows:"
   ]
  },
  {
   "cell_type": "code",
   "execution_count": 1,
   "id": "define-parametric-types",
   "metadata": {},
   "outputs": [],
   "source": [
    "abstract type AbstractPoint{T} end\n",
    "\n",
    "struct Point{T <: Real} <: AbstractPoint{T}\n",
    "    x::T\n",
    "    y::T\n",
    "end"
   ]
  },
  {
   "cell_type": "markdown",
   "id": "parametric-types-explanation",
   "metadata": {},
   "source": [
    "The example above defines a parametric abstract type `AbstractPoint` and its parametric subtype `Point`. The declaration of the concrete type `Point{T <: Real}` has two fields of type `T`, where `T` can be any subtype of `Real`. This definition ensures that both fields are always of the same type. Note that `Point{Float64}` is a concrete type equivalent to replacing `T` in the definition of `Point` by `Float64`."
   ]
  },
  {
   "cell_type": "code",
   "execution_count": null,
   "id": "isconcretetype-point",
   "metadata": {},
   "outputs": [],
   "source": [
    "isconcretetype(Point{Float64})"
   ]
  },
  {
   "cell_type": "markdown",
   "id": "parametric-type-subtypes",
   "metadata": {},
   "source": [
    "This single declaration declares a concrete type for each type `T` that is a subtype of `Real`.  The `Point` type itself is also a valid type object, containing all instances `Point{Float64}`, `Point{Int64}`, etc., as subtypes."
   ]
  },
  {
   "cell_type": "code",
   "execution_count": null,
   "id": "point-subtypes",
   "metadata": {},
   "outputs": [],
   "source": [
    "Point{Float64} <: Point <: AbstractPoint\n",
    "Point{Int64} <: Point <: AbstractPoint"
   ]
  },
  {
   "cell_type": "markdown",
   "id": "parametric-type-relations",
   "metadata": {},
   "source": [
    "Concrete `Point` types with different `T` values are never subtypes of each other. Even though `Float64` is a subtype of `Real`, `Point{Float64}` is not a subtype of `Point{Real}`."
   ]
  },
  {
   "cell_type": "code",
   "execution_count": null,
   "id": "parametric-type-subtype-false",
   "metadata": {},
   "outputs": [],
   "source": [
    "Point{Float64} <: Point{Real}\n",
    "Point{Float64} <: AbstractPoint{Float64}\n",
    "Point{Float64} <: AbstractPoint{Real}"
   ]
  },
  {
   "cell_type": "markdown",
   "id": "parametric-type-implications",
   "metadata": {},
   "source": [
    "This behaviour has important consequences: while any instance of `Point{Float64}` may be represented as an instance of `Point{Real}`, these two types have different representations in memory:\n",
    "\n",
    "- An instance of `Point{Float64}` can be efficiently represented as a pair of 64-bit values;\n",
    "- An instance of `Point{Real}` must be able to hold any pair of `Real` values. Since instances of `Real` can have arbitrary size and structure, an instance of `Point{Real}` must be represented as a pair of pointers to individually allocated `Real` objects.\n",
    "\n",
    "This efficiency gain is magnified for arrays: `Array{Float64}` can be stored as a contiguous memory block of 64-bit floating-point values, whereas `Array{Real}` is an array of pointers to `Real` objects.\n",
    "\n",
    "Since `Point{Float64}` is not a subtype of `Point{Real}`, the following method cannot be applied to arguments of type `Point{Float64}`."
   ]
  },
  {
   "cell_type": "code",
   "execution_count": null,
   "id": "coordinates-function-error",
   "metadata": {},
   "outputs": [],
   "source": [
    "coordinates(p::Point{Real}) = (p.x, p.y)\n",
    "\n",
    "coordinates(Point(1,2))"
   ]
  },
  {
   "cell_type": "code",
   "execution_count": null,
   "id": "73862a4f",
   "metadata": {},
   "outputs": [],
   "source": [
    "coordinates(Point(1.0,2.0))"
   ]
  },
  {
   "cell_type": "markdown",
   "id": "coordinates-correct",
   "metadata": {},
   "source": [
    "The correct way to define a method that accepts all arguments of type `Point{T}` where `T` is a subtype of `Real` is as follows:"
   ]
  },
  {
   "cell_type": "code",
   "execution_count": null,
   "id": "coordinates-function-correct",
   "metadata": {},
   "outputs": [],
   "source": [
    "coordinates(p::Point{<:Real}) = (p.x, p.y)\n",
    "\n",
    "coordinates(Point(1,2))\n",
    "coordinates(Point(1.0,2.0))"
   ]
  },
  {
   "cell_type": "markdown",
   "id": "define-show-method",
   "metadata": {},
   "source": [
    "It is also possible to define a function for all subtypes of some abstract type."
   ]
  },
  {
   "cell_type": "code",
   "execution_count": null,
   "id": "show-method",
   "metadata": {},
   "outputs": [],
   "source": [
    "Base.show(io::IO, p::AbstractPoint) = print(io, coordinates(p))\n",
    "\n",
    "Point(4, 2)\n",
    "Point(0.2, 1.3)"
   ]
  },
  {
   "cell_type": "markdown",
   "id": "instantiate-point",
   "metadata": {},
   "source": [
    "There are two ways how to instantiate the `Point` type.  The first one does not specify the `T` parameter and lets Julia automatically decide the appropriate type. The second one specifies the `T` parameter manually."
   ]
  },
  {
   "cell_type": "code",
   "execution_count": null,
   "id": "instantiate-point-examples",
   "metadata": {},
   "outputs": [],
   "source": [
    "Point(1, 2)\n",
    "Point{Float32}(1, 2)"
   ]
  },
  {
   "cell_type": "markdown",
   "id": "point-error",
   "metadata": {},
   "source": [
    "The first way works only if the arguments have the same type."
   ]
  },
  {
   "cell_type": "code",
   "execution_count": null,
   "id": "point-error-example",
   "metadata": {},
   "outputs": [],
   "source": [
    "Point(1, 2.0)"
   ]
  },
  {
   "cell_type": "markdown",
   "id": "custom-constructor",
   "metadata": {},
   "source": [
    "This situation can be handled by defining custom constructors, as we will discuss in the next section."
   ]
  },
  {
   "cell_type": "markdown",
   "id": "exercise-3d-point",
   "metadata": {},
   "source": [
    "### Exercise:\n",
    "\n",
    "Define a structure that represents 3D-points. Do not forget to define it as a subtype of the `AbstractPoint` type. Then add a new method to the `coordinates` function."
   ]
  },
  {
   "cell_type": "markdown",
   "id": "solution-3d-point",
   "metadata": {},
   "source": [
    "<details>\n",
    "<summary><strong>Solution:</strong></summary>\n",
    "\n",
    "There are several possibilities for defining the structure. We define it as a structure with three fields. Another option is to use a tuple to store the point coordinates.\n",
    "\n",
    "```julia\n",
    "struct Point3D{T <: Real} <: AbstractPoint{T}\n",
    "    x::T\n",
    "    y::T\n",
    "    z::T\n",
    "end\n",
    "\n",
    "coordinates(p::Point3D) = (p.x, p.y, p.z)\n",
    "```\n",
    "\n",
    "Since the `show` function was defined for the abstract type `AbstractPoint` and uses the `coordinates` function, the custom print is applied to `Point3D` without the need for further changes.\n",
    "\n",
    "```julia\n",
    "Point3D(1, 2, 3)\n",
    "Point3D{Float32}(1, 2, 3)\n",
    "```\n",
    "\n",
    "</details>"
   ]
  },
  {
   "cell_type": "markdown",
   "id": "constructors",
   "metadata": {},
   "source": [
    "## Constructors\n",
    "\n",
    "Constructors are functions that create new instances of composite types. When a user defines a new composite type,  Julia creates the default constructors. Sometimes it is helpful to add additional constructors. In the example from the previous section, we may want to create an instance of `Point` from two numbers with different types. This can be achieved by defining the following constructor."
   ]
  },
  {
   "cell_type": "code",
   "execution_count": null,
   "id": "define-constructor",
   "metadata": {},
   "outputs": [],
   "source": [
    "Point(x::Real, y::Real) = Point(promote(x, y)...)"
   ]
  },
  {
   "cell_type": "markdown",
   "id": "constructor-example",
   "metadata": {},
   "source": [
    "We can test the new constructor on the example from the end of the previous section. As expected, the result has the type `Point{Float64}`."
   ]
  },
  {
   "cell_type": "code",
   "execution_count": null,
   "id": "constructor-test",
   "metadata": {},
   "outputs": [],
   "source": [
    "Point(1, 2.0)\n",
    "typeof(Point(1, 2.0))"
   ]
  },
  {
   "cell_type": "markdown",
   "id": "exercise-nd-point",
   "metadata": {},
   "source": [
    "### Exercise:\n",
    "\n",
    "Define a structure that represents ND-points and stores their coordinates as `Tuple`. Do not forget to define it as a subtype of the `AbstractPoint` type. Redefine the default inner constructor to create an instance of `PointND` from different types. Then add a new method to the `coordinates` function, and define function `dim` that returns the dimension of the point.\n",
    "\n",
    "**Hints:** use the `new` function in the definition of the new inner constructor.\n",
    "\n",
    "**Bonus:** Tuples with elements of the same type can be described by the special type `NTuple{N, T}`, where `N` is the number of elements and `T` their type.\n",
    "\n",
    "```julia\n",
    "julia> NTuple{2, Int64} <: Tuple{Int64, Int64}\n",
    "true\n",
    "```"
   ]
  },
  {
   "cell_type": "markdown",
   "id": "solution-nd-point",
   "metadata": {},
   "source": [
    "<details>\n",
    "<summary><strong>Solution:</strong></summary>\n",
    "\n",
    "In this case, we can use an inner constructor with the optional number of input arguments. In the definition below, we use type annotation to set these arguments to be real numbers. Since we use the `new` function and our type is parametric, we have to specify `N` and type `T`.\n",
    "\n",
    "```julia\n",
    "struct PointND{N, T <: Real} <: AbstractPoint{T}\n",
    "    x::NTuple{N, T}\n",
    "\n",
    "    function PointND(args::Real...)\n",
    "        vals = promote(args...)\n",
    "        return new{length(args), eltype(vals)}(vals)\n",
    "    end\n",
    "end\n",
    "\n",
    "coordinates(p::PointND) = p.x\n",
    "dim(p::PointND{N}) where N = N\n",
    "```\n",
    "\n",
    "Note that we use the parameter `N` in the definition of the `dim` function.\n",
    "\n",
    "Since the `show` function was defined for the abstract type `AbstractPoint` and uses the `coordinates` function, the custom printing function is immediately applied to the new type. Since we redefined the default constructors, we can create an instance of the `PointND` type from inputs of mixed types.\n",
    "\n",
    "```julia\n",
    "p = PointND(1, 2)\n",
    "dim(p)\n",
    "\n",
    "p = PointND(1, 2.2, 3, 4.5)\n",
    "dim(p)\n",
    "```\n",
    "\n",
    "</details>"
   ]
  },
  {
   "cell_type": "markdown",
   "id": "default-field-values",
   "metadata": {},
   "source": [
    "## Default field values\n",
    "\n",
    "It may be beneficial to define custom types with default field values. Since a constructor is a function, one way to achieve this is to use optional or keyword arguments in its declaration. Another option is to use the `@kwdef` macro from `Base` that automatically defines keyword-based constructors."
   ]
  },
  {
   "cell_type": "code",
   "execution_count": null,
   "id": "define-mytype",
   "metadata": {},
   "outputs": [],
   "source": [
    "Base.@kwdef struct MyType\n",
    "    a::Int # required keyword\n",
    "    b::Float64 = 2.3\n",
    "    c::String = \"hello\"\n",
    "end"
   ]
  },
  {
   "cell_type": "code",
   "execution_count": null,
   "id": "mytype-methods",
   "metadata": {},
   "outputs": [],
   "source": [
    "methods(MyType)"
   ]
  },
  {
   "cell_type": "code",
   "execution_count": null,
   "id": "mytype-examples",
   "metadata": {},
   "outputs": [],
   "source": [
    "MyType(1, 2.3, \"aaa\")\n",
    "MyType(; a = 3)\n",
    "MyType(; a = 5, b = 4.5)"
   ]
  },
  {
   "cell_type": "markdown",
   "id": "function-like-objects",
   "metadata": {},
   "source": [
    "### Function-like objects (functors):\n",
    "\n",
    "Methods are associated with types; therefore, it is possible to make an arbitrary Julia object \"callable\" by adding methods to its type. Such \"callable\" objects are sometimes called **functors**. Using this technique to the `MyType` defined above, we can define a method that returns values of all its fields."
   ]
  },
  {
   "cell_type": "code",
   "execution_count": null,
   "id": "functor-example",
   "metadata": {},
   "outputs": [],
   "source": [
    "(m::MyType)() = (m.a, m.b, m.c)\n",
    "\n",
    "m = MyType(; a = 5, b = 4.5)\n",
    "m()"
   ]
  },
  {
   "cell_type": "markdown",
   "id": "functor-multidispatch",
   "metadata": {},
   "source": [
    "Moreover, we can use multiple-dispatch for functors. We show an example where the functor has a different behaviour when it is called with a number and a string."
   ]
  },
  {
   "cell_type": "code",
   "execution_count": 48,
   "id": "functor-multidispatch-code",
   "metadata": {},
   "outputs": [],
   "source": [
    "(m::MyType)(x::Real) = m.a * x + m.b\n",
    "(m::MyType)(x::String) = \"$(m.c), $(x)\""
   ]
  },
  {
   "cell_type": "code",
   "execution_count": null,
   "id": "functor-multidispatch-examples",
   "metadata": {},
   "outputs": [],
   "source": [
    "m(1)\n",
    "m(\"world\")"
   ]
  },
  {
   "cell_type": "markdown",
   "id": "exercise-gauss",
   "metadata": {},
   "source": [
    "### Exercise:\n",
    "\n",
    "[Gaussian distribution](https://en.wikipedia.org/wiki/Normal_distribution) is uniquely represented by its mean $\\mu$ and variance $\\sigma^2>0$. Write a structure `Gauss` with the proper fields and an inner constructor that checks if the input parameters are correct. Initialization without arguments `Gauss()` should return the standardized normal distribution ($ \\mu = 0$ and $ \\sigma = 1$).  Define a functor that computes the probability density function at a given point defined by\n",
    "\n",
    "$$\n",
    "f_{\\mu, \\sigma}(x) = \\frac{1}{\\sigma \\sqrt{ 2\\pi }} \\exp\\left\\{ -\\frac{1}{2} \\left( \\frac{x - \\mu}{\\sigma} \\right) ^2 \\right\\},\n",
    "$$\n",
    "\n",
    "Verify that the probability density function is defined correctly, i.e., its integral equals 1."
   ]
  },
  {
   "cell_type": "markdown",
   "id": "solution-gauss",
   "metadata": {},
   "source": [
    "<details>\n",
    "<summary><strong>Solution:</strong></summary>\n",
    "\n",
    "One possible way to define this structure is the `@kwdef` macro, where we specify the default parameters. We also define an inner constructor that promotes the inputs to a same type, and checks if the variance is positive.\n",
    "\n",
    "```julia\n",
    "Base.@kwdef struct Gauss{T<:Real}\n",
    "    μ::T = 0\n",
    "    σ::T = 1\n",
    "\n",
    "    function Gauss(μ::Real, σ::Real)\n",
    "        σ^2 > 0 || error(\"the variance `σ^2` must be positive\")\n",
    "        pars = promote(μ, σ)\n",
    "        return new{eltype(pars)}(pars...)\n",
    "    end\n",
    "end\n",
    "```\n",
    "\n",
    "We specified the parameter `T` by `eltype(pars)` in the call of the `new` function. The probability density function can be defined as a functor in the following way:\n",
    "\n",
    "```julia\n",
    "(d::Gauss)(x::Real) = exp(-1/2 * ((x - d.μ)/d.σ)^2)/(d.σ * sqrt(2*π))\n",
    "```\n",
    "\n",
    "We use type annotation to ensure that all input arguments are real numbers.\n",
    "\n",
    "```julia\n",
    "gauss = Gauss()\n",
    "gauss(0)\n",
    "```\n",
    "\n",
    "The integral of the probability density function over the real line should equal one. We check it numerically by discretizing the integral into a finite sum.\n",
    "\n",
    "```julia\n",
    "step = 0.01\n",
    "x = -100:step:100\n",
    "\n",
    "sum(Gauss(), x) * step\n",
    "sum(Gauss(0.1, 2.3), x) * step\n",
    "```\n",
    "\n",
    "We use `sum` with a function as the first input argument and apply it to each value of the second argument. This is possible because we defined a functor for `Gauss`. The result is the same as `sum(Gauss().(x))`. The difference is that the former, similarly to generators, does not allocate an array.\n",
    "\n",
    "</details>"
   ]
  },
  {
   "cell_type": "markdown",
   "id": "plot-recipes",
   "metadata": {},
   "source": [
    "### Plot recipes:\n",
    "\n",
    "The previous exercise defined a new type representing the Gaussian distribution. We also defined a functor that computes the probability density function of this distribution. It makes sense to visualize the probability density function using the [Plots](http://docs.juliaplots.org/latest/) package. Unfortunately, it is not possible to use function plotting directly, even though the `Gauss` type is callable.\n",
    "\n",
    "Using the system of Julia types, it is possible to obtain special behaviour for a certain type only by defining a new method for this type. For example, if we use the `plot` function, all input data and plot attributes are preprocessed to some standard format and then the final graph is created. Due to the Julia type system, we can easily change how this preprocessing happens and define special behaviour for custom types.\n",
    "\n",
    "For plotting, this is done by the `@recipe` macro from the [RecipesBase](https://github.com/JuliaPlots/RecipesBase.jl) package. The RecipesBase package provides the functionality related to creating custom plots, and the Plots package uses this functionality. Moreover, since the RecipesBase package is much smaller, its first run is faster. The syntax is straightforward. In the function head, we define two inputs: our type and input `x`. In the function body, we define plot attributes in the same way as if we pass them into the `plot` function. Finally, we define the output of the function.\n",
    "\n",
    "```julia\n",
    "using RecipesBase\n",
    "\n",
    "@recipe function f(d::Gauss, x = (d.μ - 4d.σ):0.1:(d.μ + 4d.σ))\n",
    "    seriestype  :=  :path\n",
    "    label --> \"Gauss(μ = $(d.μ), σ = $(d.σ))\"\n",
    "    xguide --> \"x\"\n",
    "    yguide --> \"f(x)\"\n",
    "    linewidth --> 2\n",
    "    return x, d.(x)\n",
    "end\n",
    "```\n",
    "\n",
    "The operators `:=` and `-->` are specific for this package. Both set default values for plotting attributes. The difference is that the default values can be changed for `-->` but cannot be changed for `:=`.\n",
    "\n",
    "The recipe above is equivalent to calling the `plot` function.\n",
    "\n",
    "```julia\n",
    "d = Gauss()\n",
    "plot(x, d.(x);\n",
    "    seriestype = :path,\n",
    "    label = \"Gauss(μ = $(d.μ), σ = $(d.σ))\",\n",
    "    xguide = \"x\",\n",
    "    yguide = \"f(x)\",\n",
    "    linewidth = 2\n",
    ")\n",
    "```\n",
    "\n",
    "With the new plot recipe, we can plot the probability density function of the Gaussian distribution with different parameters."
   ]
  },
  {
   "cell_type": "code",
   "execution_count": null,
   "id": "plot-gauss",
   "metadata": {},
   "outputs": [],
   "source": [
    "using Plots\n",
    "\n",
    "plot(Gauss())\n",
    "plot!(Gauss(4, 2); linewidth = 4, color = :red)\n",
    "plot!(Gauss(-3, 2); label = \"new label\", linestyle = :dash)"
   ]
  },
  {
   "cell_type": "markdown",
   "id": "plot-display",
   "metadata": {},
   "source": [
    "> **Note:** The figure generated will be displayed below (if your environment supports it). If the image `gauss.svg` is referenced, ensure it is in the same directory as the notebook."
   ]
  }
 ],
 "metadata": {
  "kernelspec": {
   "display_name": "Julia",
   "language": "julia",
   "name": "julia"
  },
  "language_info": {
   "file_extension": ".jl",
   "mimetype": "application/julia",
   "name": "julia",
   "version": "1.6.0"
  }
 },
 "nbformat": 4,
 "nbformat_minor": 5
}
