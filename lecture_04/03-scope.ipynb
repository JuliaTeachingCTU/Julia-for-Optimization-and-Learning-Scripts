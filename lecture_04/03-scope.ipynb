{
 "cells": [
  {
   "cell_type": "markdown",
   "id": "scope-of-variables",
   "metadata": {},
   "source": [
    "# Scope of variables\n",
    "\n",
    "The scope of a variable is the region of a code where the variable is visible. There are two main scopes in Julia: **global** and **local**. The global scope can contain multiple local scope blocks. Local scope blocks can be nested. There is also a distinction in Julia between constructs which introduce a *hard scope* and those which only introduce a *soft scope*. This affects whether shadowing a global variable by the same name is allowed.\n",
    "\n",
    "The following table shows constructs that introduce scope blocks.\n",
    "\n",
    "| Construct                                          | Scope type   | Allowed within local|\n",
    "| :--                                                | :--          | :-:                 |\n",
    "| `module`, `baremodule`                             | global       | ✗                   |\n",
    "| `struct`                                           | local (soft) | ✗                   |\n",
    "| `macro`                                            | local (hard) | ✗                   |\n",
    "| `for`, `while`, `try`                              | local (soft) | ✔                   |\n",
    "| `let`, `functions`, `comprehensions`, `generators` | local (hard) | ✔                   |\n",
    "\n",
    "This table contains several constructs which we have not introduced yet. Modules and structures will be discussed later in the course. The rest is described in the official [documentation](https://docs.julialang.org/)."
   ]
  },
  {
   "cell_type": "markdown",
   "id": "local-scope",
   "metadata": {},
   "source": [
    "## Local scope\n",
    "\n",
    "A function declaration introduces a new (hard) local scope. It means that all variables defined inside a function body can be accessed and modified inside the function body. Moreover, it is impossible to access these variables from outside the function."
   ]
  },
  {
   "cell_type": "code",
   "execution_count": null,
   "id": "function-f",
   "metadata": {},
   "outputs": [],
   "source": [
    "function f()\n",
    "    z = 42\n",
    "    return\n",
    "end"
   ]
  },
  {
   "cell_type": "code",
   "execution_count": 2,
   "id": "call-f",
   "metadata": {},
   "outputs": [],
   "source": [
    "f()"
   ]
  },
  {
   "cell_type": "code",
   "execution_count": null,
   "id": "access-z",
   "metadata": {},
   "outputs": [],
   "source": [
    "z"
   ]
  },
  {
   "cell_type": "markdown",
   "id": "local-scope-explanation",
   "metadata": {},
   "source": [
    "An error occurs because `z` is not defined in the global scope. Variables defined inside the function `f` are local to that function.\n",
    "\n",
    "Thanks to this property, we can use the names most suitable for our variables (`i`, `x`, `y`, etc.) without the risk of clashing with declarations elsewhere. It is possible to specify a global variable inside a function by the `global` keyword."
   ]
  },
  {
   "cell_type": "code",
   "execution_count": null,
   "id": "function-f-global",
   "metadata": {},
   "outputs": [],
   "source": [
    "function f()\n",
    "    global z = 42\n",
    "    return\n",
    "end"
   ]
  },
  {
   "cell_type": "code",
   "execution_count": 5,
   "id": "call-f-global",
   "metadata": {},
   "outputs": [],
   "source": [
    "f()"
   ]
  },
  {
   "cell_type": "code",
   "execution_count": null,
   "id": "access-z-global",
   "metadata": {},
   "outputs": [],
   "source": [
    "z"
   ]
  },
  {
   "cell_type": "markdown",
   "id": "global-in-function-explanation",
   "metadata": {},
   "source": [
    "However, this is not recommended. If we need a variable defined inside a function, we should probably return that variable as an output of the function."
   ]
  },
  {
   "cell_type": "code",
   "execution_count": null,
   "id": "function-f-return-z",
   "metadata": {},
   "outputs": [],
   "source": [
    "function f()\n",
    "    z = 42\n",
    "    return z\n",
    "end"
   ]
  },
  {
   "cell_type": "code",
   "execution_count": null,
   "id": "call-f-assign-z",
   "metadata": {},
   "outputs": [],
   "source": [
    "z = f()\n",
    "z"
   ]
  },
  {
   "cell_type": "markdown",
   "id": "local-vs-global-z",
   "metadata": {},
   "source": [
    "In the example above, the `z` variable in the function is local, and the `z` variable outside of the function is global. These two variables are not the same."
   ]
  },
  {
   "cell_type": "markdown",
   "id": "global-scope",
   "metadata": {},
   "source": [
    "## Global scope\n",
    "\n",
    "Each module introduces a new global scope, separate from the global scope of all other modules. The interactive prompt (aka REPL) is in the global scope of the module `Main`."
   ]
  },
  {
   "cell_type": "code",
   "execution_count": null,
   "id": "module-A",
   "metadata": {},
   "outputs": [],
   "source": [
    "module A\n",
    "    a = 1 # a global in A's scope\n",
    "    b = 2 # b global in A's scope\n",
    "end"
   ]
  },
  {
   "cell_type": "code",
   "execution_count": null,
   "id": "access-a",
   "metadata": {},
   "outputs": [],
   "source": [
    "a  # This will produce an error"
   ]
  },
  {
   "cell_type": "markdown",
   "id": "module-scope-explanation",
   "metadata": {},
   "source": [
    "Modules can introduce variables of other modules into their scope through the `using` (or `import`) keyword. Variables can be accessed by the dot-notation."
   ]
  },
  {
   "cell_type": "code",
   "execution_count": 11,
   "id": "using-A-b",
   "metadata": {},
   "outputs": [],
   "source": [
    "using .A: b  # make variable b from module A available"
   ]
  },
  {
   "cell_type": "code",
   "execution_count": null,
   "id": "access-A-a",
   "metadata": {},
   "outputs": [],
   "source": [
    "A.a"
   ]
  },
  {
   "cell_type": "code",
   "execution_count": null,
   "id": "access-b",
   "metadata": {},
   "outputs": [],
   "source": [
    "b"
   ]
  },
  {
   "cell_type": "markdown",
   "id": "module-variable-assignment",
   "metadata": {},
   "source": [
    "While variables can be read externally, they can only be changed within the module they belong to."
   ]
  },
  {
   "cell_type": "code",
   "execution_count": null,
   "id": "assign-b",
   "metadata": {},
   "outputs": [],
   "source": [
    "b = 4  # This will produce an error"
   ]
  },
  {
   "cell_type": "markdown",
   "id": "global-variable-access",
   "metadata": {},
   "source": [
    "Global scope variables can be accessed anywhere inside the global scope, even in the local scopes defined in that global scope. In the following example, we define a variable `c` in the `Main` global scope, and then we define a function `foo` (that introduces a new local scope inside the `Main` global scope), and inside this function, we use the variable `c`."
   ]
  },
  {
   "cell_type": "code",
   "execution_count": null,
   "id": "define-c",
   "metadata": {},
   "outputs": [],
   "source": [
    "c = 10"
   ]
  },
  {
   "cell_type": "code",
   "execution_count": null,
   "id": "function-foo",
   "metadata": {},
   "outputs": [],
   "source": [
    "foo(x) = x + c"
   ]
  },
  {
   "cell_type": "code",
   "execution_count": null,
   "id": "call-foo",
   "metadata": {},
   "outputs": [],
   "source": [
    "foo(1)"
   ]
  },
  {
   "cell_type": "markdown",
   "id": "global-variable-warning",
   "metadata": {},
   "source": [
    "However, it is not recommended to use global variables in this way. The reason is that global variables can change their type and value at any time, and therefore they cannot be properly optimized by the compiler. We can see the performance drop in a simple test."
   ]
  },
  {
   "cell_type": "code",
   "execution_count": null,
   "id": "performance-test",
   "metadata": {},
   "outputs": [],
   "source": [
    "x = rand(10);\n",
    "y = rand(10);\n",
    "\n",
    "f_global() = x .+ y\n",
    "f_local(x, y) = x .+ y\n",
    "\n",
    "hcat(f_global(), f_local(x, y))"
   ]
  },
  {
   "cell_type": "markdown",
   "id": "performance-explanation",
   "metadata": {},
   "source": [
    "In the example above, we defined two functions that do the same thing. The first function has no arguments and returns a sum of two global variables, `x` and `y`. The second function also returns a sum of variables `x` and `y`. However, in this case, these variables are local since they are introduced as the inputs to the function. If we use the `@time` macro, we can measure the time needed to call these two functions."
   ]
  },
  {
   "cell_type": "code",
   "execution_count": null,
   "id": "timing-test",
   "metadata": {},
   "outputs": [],
   "source": [
    "@time f_global();\n",
    "@time f_local(x, y);"
   ]
  },
  {
   "cell_type": "markdown",
   "id": "timing-explanation",
   "metadata": {},
   "source": [
    "The second function is faster and also needs fewer allocations. The reason is that when we call the `f_local` function for the first time, the function is optimized for the given arguments. Each time a function is called for the first time with new types of arguments, it is compiled. This can be seen in the following example: the first call is slower due to the compilation."
   ]
  },
  {
   "cell_type": "code",
   "execution_count": null,
   "id": "timing-compile-test",
   "metadata": {},
   "outputs": [],
   "source": [
    "x, y = 1:10, 11:20;\n",
    "\n",
    "@time f_local(x, y);\n",
    "@time f_local(x, y);"
   ]
  },
  {
   "cell_type": "markdown",
   "id": "global-variable-performance",
   "metadata": {},
   "source": [
    "On the other hand, the `f_global` function cannot be optimized because it contains two global variables, and these two variables can change at any time."
   ]
  }
 ],
 "metadata": {
  "kernelspec": {
   "display_name": "Julia 1.10.5",
   "language": "julia",
   "name": "julia-1.10"
  },
  "language_info": {
   "file_extension": ".jl",
   "mimetype": "application/julia",
   "name": "julia",
   "version": "1.10.5"
  }
 },
 "nbformat": 4,
 "nbformat_minor": 5
}
