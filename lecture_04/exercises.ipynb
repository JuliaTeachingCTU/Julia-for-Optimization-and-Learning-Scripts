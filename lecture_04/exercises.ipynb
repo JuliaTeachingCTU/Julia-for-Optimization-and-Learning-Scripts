{
 "cells": [
  {
   "cell_type": "markdown",
   "id": "conways-game-of-life",
   "metadata": {},
   "source": [
    "# Conway's Game of Life\n",
    "\n",
    "The [Game of Life](https://en.wikipedia.org/wiki/Conway%27s_Game_of_Life) is a cellular automaton devised by the British mathematician John Horton Conway in 1970. It is a zero-player game, meaning that its evolution is determined by its initial state, requiring no further input. One only interacts with the Game of Life by creating an initial configuration.\n",
    "\n",
    "The universe of the Game of Life is an infinite, two-dimensional orthogonal grid of square cells, each of which is in one of two possible states: live or dead. Every cell interacts with its eight neighbours. The game evolves. At each time step, the following transitions occur:\n",
    "\n",
    "1. Any live cell with exactly two or three live neighbours survives.\n",
    "2. Any dead cell with exactly three live neighbours becomes a live cell.\n",
    "3. All other live cells die in the next generation. All other dead cells stay dead.\n",
    "\n",
    "The first generation must be initialized. Every new generation is created by applying the above rules simultaneously to every cell in the previous generations; births and deaths occur simultaneously. The moment when this happens is called a tick. Since every generation depends only on the previous one, this process is a [Markov chain](https://en.wikipedia.org/wiki/Markov_chain).\n",
    "\n",
    "The following few exercises will implement the Game of Life. We will consider a finite universe with periodic boundary conditions."
   ]
  },
  {
   "cell_type": "markdown",
   "id": "exercise-neighbours",
   "metadata": {},
   "source": [
    "### Exercise:\n",
    "\n",
    "Write a function `neighbours` that returns the number of live neighbours of a cell. The function should accept the `world` matrix of boolean values representing the state of all cells (`true` if the cell is alive and `false` otherwise) and the index of the row and column of the cell.\n",
    "\n",
    "**Hint:** Use the following properties of the `mod1` function to implement periodic boundaries.\n",
    "\n",
    "```julia\n",
    "mod1(1, 4)\n",
    "mod1(4, 4)\n",
    "mod1(5, 4)\n",
    "```\n",
    "\n",
    "**Bonus:** Implement a more general function which computes the number of alive cells in a neighbourhood of a given size."
   ]
  },
  {
   "cell_type": "code",
   "execution_count": null,
   "id": "mod1-examples",
   "metadata": {},
   "outputs": [],
   "source": [
    "mod1(1, 4)\n",
    "mod1(4, 4)\n",
    "mod1(5, 4)"
   ]
  },
  {
   "cell_type": "markdown",
   "id": "5f531302",
   "metadata": {},
   "source": [
    "**Example initialization**"
   ]
  },
  {
   "cell_type": "code",
   "execution_count": null,
   "id": "60b3b032",
   "metadata": {},
   "outputs": [],
   "source": [
    "world = zeros(Bool, 15, 15)\n",
    "row, col = 5, 5\n",
    "\n",
    "world[row, col] = 1\n",
    "world[row, col + 1] = 1\n",
    "world[row - 1, col + 6] = 1\n",
    "world[row + 1, col + 1] = 1\n",
    "world[row + 1, col + 5] = 1\n",
    "world[row + 1, col + 6] = 1\n",
    "world[row + 1, col + 7] = 1\n",
    "\n",
    "heatmap(world; axis = nothing, border = :none, cbar = false, ratio = :equal, size=(300,300))"
   ]
  },
  {
   "cell_type": "markdown",
   "id": "c31da8c6",
   "metadata": {},
   "source": [
    "#### Solution"
   ]
  },
  {
   "cell_type": "markdown",
   "id": "c87eeb1b",
   "metadata": {},
   "source": [
    "One way to define the `neighbours` function is to check all neighbours manually."
   ]
  },
  {
   "cell_type": "code",
   "execution_count": null,
   "id": "787f544d",
   "metadata": {},
   "outputs": [],
   "source": [
    "function neighbours(world, row, col)\n",
    "    n, m = size(world)\n",
    "\n",
    "    # this implements periodic boundaries\n",
    "    down  = mod1(row + 1, n)\n",
    "    up    = mod1(row - 1, n)\n",
    "    left  = mod1(col - 1, m)\n",
    "    right = mod1(col + 1, m)\n",
    "\n",
    "    return (world[up, left]   + world[up, col]   + world[up, right]\n",
    "          + world[row, left]                     + world[row, right]\n",
    "          + world[down, left] + world[down, col] + world[down, right])\n",
    "end"
   ]
  },
  {
   "cell_type": "markdown",
   "id": "3131f6cd",
   "metadata": {},
   "source": [
    "The approach above cannot define a general version of the `neighbours` function. In this case, we can use array indexing and loops. First, we compute proper row indices by `mod1` combined with the range operator."
   ]
  },
  {
   "cell_type": "code",
   "execution_count": null,
   "id": "558125b8",
   "metadata": {},
   "outputs": [],
   "source": [
    "r = 1\n",
    "rows = mod1.(row .+ (-r:r), size(world, 1))"
   ]
  },
  {
   "cell_type": "markdown",
   "id": "1a32b452",
   "metadata": {},
   "source": [
    "Column indices can be computed similarly. Then we use nested loops to iterate through both rows and columns. Since the iteration includes the middle cell, we need to subtract its state."
   ]
  },
  {
   "cell_type": "code",
   "execution_count": null,
   "id": "4c46c912",
   "metadata": {},
   "outputs": [],
   "source": [
    "function neighbours(world, row, col; r = 1)\n",
    "    rows = mod1.(row .+ (-r:r), size(world, 1))\n",
    "    cols = mod1.(col .+ (-r:r), size(world, 2))\n",
    "\n",
    "    return sum(world[i, j] for i in rows, j in cols) - world[row, col]\n",
    "end\n"
   ]
  },
  {
   "cell_type": "markdown",
   "id": "exercise-neighbours-matrix",
   "metadata": {},
   "source": [
    "### Exercise:\n",
    "\n",
    "Add a new method to the `neighbours` function that, for the `world` matrix, returns a matrix containing the numbers of living neighbours for each cell."
   ]
  },
  {
   "cell_type": "markdown",
   "id": "9a096e48",
   "metadata": {},
   "source": [
    "#### Solution"
   ]
  },
  {
   "cell_type": "markdown",
   "id": "8c555ec2",
   "metadata": {},
   "source": [
    "We created a function that computes the number of living neighbours for a single cell in the exercise above. One way to create a matrix with numbers of living neighbours is:"
   ]
  },
  {
   "cell_type": "code",
   "execution_count": null,
   "id": "0a88e853",
   "metadata": {},
   "outputs": [],
   "source": [
    "function neighbours(world)\n",
    "    n, m = size(world)\n",
    "    return [neighbours(world, row, col) for row in 1:n, col in 1:m]\n",
    "end"
   ]
  },
  {
   "cell_type": "markdown",
   "id": "99412cf7",
   "metadata": {},
   "source": [
    "This is an example of multiple dispatch. The function `neighbours` can have both one and three input arguments."
   ]
  },
  {
   "cell_type": "markdown",
   "id": "exercise-willsurvive",
   "metadata": {},
   "source": [
    "### Exercise:\n",
    "\n",
    "Write a function `willsurvive` that returns `true` if the cell will survive based on the conditions described at the beginning of the section and `false` otherwise. This function should accept two arguments: the state of the cell (`true`/`false`) and the number of living neighbours."
   ]
  },
  {
   "cell_type": "markdown",
   "id": "15c5eb74",
   "metadata": {},
   "source": [
    "#### Solution"
   ]
  },
  {
   "cell_type": "markdown",
   "id": "83165dee",
   "metadata": {},
   "source": [
    "This function can be written using the `if-elseif-else` statement. Since `cell` is a boolean value, we do not need to compare with `true` or `false` explicitly."
   ]
  },
  {
   "cell_type": "code",
   "execution_count": null,
   "id": "23d2adab",
   "metadata": {},
   "outputs": [],
   "source": [
    "function willsurvive(cell, k)\n",
    "    if k == 3\n",
    "        return true\n",
    "    elseif k == 2 && cell\n",
    "        return true\n",
    "    else\n",
    "        return false\n",
    "    end\n",
    "end"
   ]
  },
  {
   "cell_type": "markdown",
   "id": "ebabb011",
   "metadata": {},
   "source": [
    "We can write this function in a simpler form. We first realize that the short-circuit evaluation can merge the first two conditions. Since the function returns only `true` or `false`, we can write the function on one line."
   ]
  },
  {
   "cell_type": "code",
   "execution_count": null,
   "id": "9c44b10b",
   "metadata": {},
   "outputs": [],
   "source": [
    "willsurvive(cell, k) = k == 3 || (k == 2 && cell)"
   ]
  },
  {
   "cell_type": "markdown",
   "id": "exercise-evolve",
   "metadata": {},
   "source": [
    "### Exercise:\n",
    "\n",
    "Combine these functions to write a function `evolve!` that evolves the given `world` matrix into a new generation."
   ]
  },
  {
   "cell_type": "markdown",
   "id": "31eb26f6",
   "metadata": {},
   "source": [
    "#### Solution"
   ]
  },
  {
   "cell_type": "markdown",
   "id": "54368e72",
   "metadata": {},
   "source": [
    "We first compute the matrix with the numbers of living neighbours. Then we iterate over all elements of the `world` matrix and compute new states of all elements with the `willsurvive` function. Since we computed the number of living neighbours before iterating, we can overwrite the `world` matrix in place.\n"
   ]
  },
  {
   "cell_type": "code",
   "execution_count": null,
   "id": "fd1131b3",
   "metadata": {},
   "outputs": [],
   "source": [
    "function evolve!(world)\n",
    "    ks = neighbours(world)\n",
    "    for i in eachindex(world)\n",
    "        world[i] = willsurvive(world[i], ks[i])\n",
    "    end\n",
    "    return\n",
    "end"
   ]
  },
  {
   "cell_type": "markdown",
   "id": "9b1ba21e",
   "metadata": {},
   "source": [
    "### Evaluation and visualization"
   ]
  },
  {
   "cell_type": "markdown",
   "id": "initialization",
   "metadata": {},
   "source": [
    "In the four exercises above, we defined functions sufficient to animate the Game of Life. Use the following code to initialize the `world`."
   ]
  },
  {
   "cell_type": "code",
   "execution_count": null,
   "id": "world-initialization",
   "metadata": {},
   "outputs": [],
   "source": [
    "world = zeros(Bool, 30, 30)\n",
    "row, col = 15, 15\n",
    "\n",
    "world[row, col] = true\n",
    "world[row, col + 1] = true\n",
    "world[row - 1, col + 6] = true\n",
    "world[row + 1, col + 1] = true\n",
    "world[row + 1, col + 5] = true\n",
    "world[row + 1, col + 6] = true\n",
    "world[row + 1, col + 7] = true"
   ]
  },
  {
   "cell_type": "markdown",
   "id": "animation",
   "metadata": {},
   "source": [
    "We use the `Plots` package to create animations."
   ]
  },
  {
   "cell_type": "code",
   "execution_count": null,
   "id": "animation-code",
   "metadata": {},
   "outputs": [],
   "source": [
    "using Plots\n",
    "\n",
    "anim = @animate for i in 1:150\n",
    "    heatmap(world; axis = nothing, border = :none, cbar = false, ratio = 1)\n",
    "    evolve!(world)\n",
    "end\n",
    "gif(anim, \"gameoflife.gif\"; fps = 10)"
   ]
  },
  {
   "cell_type": "markdown",
   "id": "animation-display",
   "metadata": {},
   "source": [
    "After running the code above, the animation should display below (if the environment supports GIF display). If not, you can open the `gameoflife.gif` file generated in your working directory to view the animation."
   ]
  },
  {
   "cell_type": "markdown",
   "id": "pulsar-initialization",
   "metadata": {},
   "source": [
    "Many different types of patterns occur in the Game of Life. For example, the following initialization is called the *pulsar*."
   ]
  },
  {
   "cell_type": "code",
   "execution_count": 17,
   "id": "pulsar-initialization-code",
   "metadata": {},
   "outputs": [],
   "source": [
    "world = zeros(Bool, 17, 17)\n",
    "line = zeros(17)\n",
    "line[5:7] .= true\n",
    "line[11:13] .= true\n",
    "\n",
    "for ind in [3, 8, 10, 15]\n",
    "    world[ind, :] .= line\n",
    "    world[:, ind] .= line\n",
    "end"
   ]
  },
  {
   "cell_type": "markdown",
   "id": "pulsar-animation",
   "metadata": {},
   "source": [
    "We can animate the pulsar pattern using the same `evolve!` function."
   ]
  },
  {
   "cell_type": "code",
   "execution_count": null,
   "id": "pulsar-animation-code",
   "metadata": {},
   "outputs": [],
   "source": [
    "anim = @animate for i in 1:50\n",
    "    heatmap(world; axis = nothing, border = :none, cbar = false, ratio = 1)\n",
    "    evolve!(world)\n",
    "end\n",
    "gif(anim, \"gameoflife_pulsar.gif\"; fps = 10)"
   ]
  },
  {
   "cell_type": "markdown",
   "id": "pulsar-animation-display",
   "metadata": {},
   "source": [
    "After running the code above, the pulsar animation should display below (if the environment supports GIF display). Otherwise, you can open the `gameoflife_pulsar.gif` file generated in your working directory to view the animation."
   ]
  }
 ],
 "metadata": {
  "kernelspec": {
   "display_name": "Julia 1.10.5",
   "language": "julia",
   "name": "julia-1.10"
  },
  "language_info": {
   "file_extension": ".jl",
   "mimetype": "application/julia",
   "name": "julia",
   "version": "1.10.5"
  }
 },
 "nbformat": 4,
 "nbformat_minor": 5
}
