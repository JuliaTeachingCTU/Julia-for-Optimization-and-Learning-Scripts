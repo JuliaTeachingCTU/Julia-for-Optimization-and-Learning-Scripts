{
 "cells": [
  {
   "cell_type": "code",
   "execution_count": 1,
   "id": "4ea387bb",
   "metadata": {},
   "outputs": [
    {
     "name": "stderr",
     "output_type": "stream",
     "text": [
      "\u001b[32m\u001b[1m  Activating\u001b[22m\u001b[39m project at `~/Documents/teaching/Julia-for-Optimization-and-Learning-Scripts/lecture_04`\n"
     ]
    }
   ],
   "source": [
    "using Pkg\n",
    "Pkg.activate(\".\")"
   ]
  },
  {
   "cell_type": "markdown",
   "id": "functions",
   "metadata": {},
   "source": [
    "# Functions\n",
    "\n",
    "In Julia, a function is an object that maps a tuple of argument values to a return value. There are multiple ways to create a function. Each of them is useful in different situations. The first way is the `function ... end` syntax."
   ]
  },
  {
   "cell_type": "code",
   "execution_count": 2,
   "id": "plus-function",
   "metadata": {},
   "outputs": [
    {
     "data": {
      "text/plain": [
       "plus (generic function with 1 method)"
      ]
     },
     "execution_count": 2,
     "metadata": {},
     "output_type": "execute_result"
    }
   ],
   "source": [
    "function plus(x, y)\n",
    "    x + y\n",
    "end"
   ]
  },
  {
   "cell_type": "markdown",
   "id": "plus-explanation",
   "metadata": {},
   "source": [
    "The `plus` function accepts two arguments `x` and `y`, and returns their sum."
   ]
  },
  {
   "cell_type": "code",
   "execution_count": 3,
   "id": "plus-examples",
   "metadata": {},
   "outputs": [
    {
     "data": {
      "text/plain": [
       "5"
      ]
     },
     "execution_count": 3,
     "metadata": {},
     "output_type": "execute_result"
    }
   ],
   "source": [
    "plus(2, 3)"
   ]
  },
  {
   "cell_type": "code",
   "execution_count": 4,
   "id": "plus-examples-negative",
   "metadata": {},
   "outputs": [
    {
     "data": {
      "text/plain": [
       "-1"
      ]
     },
     "execution_count": 4,
     "metadata": {},
     "output_type": "execute_result"
    }
   ],
   "source": [
    "plus(2, -3)"
   ]
  },
  {
   "cell_type": "markdown",
   "id": "return-keyword",
   "metadata": {},
   "source": [
    "By default, functions in Julia return the last evaluated expression, which was `x + y`. It is useful to return something else with the `return` keyword in many situations. The previous example is equivalent to:"
   ]
  },
  {
   "cell_type": "code",
   "execution_count": 5,
   "id": "plus-return",
   "metadata": {},
   "outputs": [
    {
     "data": {
      "text/plain": [
       "plus (generic function with 1 method)"
      ]
     },
     "execution_count": 5,
     "metadata": {},
     "output_type": "execute_result"
    }
   ],
   "source": [
    "function plus(x, y)\n",
    "    return x + y\n",
    "end"
   ]
  },
  {
   "cell_type": "markdown",
   "id": "return-explanation",
   "metadata": {},
   "source": [
    "Even though both functions do the same, it is always good to use the `return` keyword. It usually improves code readability and can prevent potential confusion."
   ]
  },
  {
   "cell_type": "code",
   "execution_count": 6,
   "id": "plus-return-extra",
   "metadata": {},
   "outputs": [
    {
     "data": {
      "text/plain": [
       "plus (generic function with 1 method)"
      ]
     },
     "execution_count": 6,
     "metadata": {},
     "output_type": "execute_result"
    }
   ],
   "source": [
    "function plus(x, y)\n",
    "    return x + y\n",
    "    println(\"I am a useless line of code!!\")\n",
    "end"
   ]
  },
  {
   "cell_type": "markdown",
   "id": "return-explanation-2",
   "metadata": {},
   "source": [
    "The example above contains the `println` function on the last line. However, if the function is called, nothing is printed into the REPL. This is because expressions after the `return` keyword are never evaluated."
   ]
  },
  {
   "cell_type": "code",
   "execution_count": 7,
   "id": "plus-return-test",
   "metadata": {},
   "outputs": [
    {
     "data": {
      "text/plain": [
       "9"
      ]
     },
     "execution_count": 7,
     "metadata": {},
     "output_type": "execute_result"
    }
   ],
   "source": [
    "plus(4, 5)"
   ]
  },
  {
   "cell_type": "code",
   "execution_count": 8,
   "id": "plus-return-test-negative",
   "metadata": {},
   "outputs": [
    {
     "data": {
      "text/plain": [
       "-2"
      ]
     },
     "execution_count": 8,
     "metadata": {},
     "output_type": "execute_result"
    }
   ],
   "source": [
    "plus(3, -5)"
   ]
  },
  {
   "cell_type": "markdown",
   "id": "multiple-returns",
   "metadata": {},
   "source": [
    "It is also possible to return multiple values at once. This can be done by writing multiple comma-separated values after the `return` keyword (or on the last line when `return` is omitted)."
   ]
  },
  {
   "cell_type": "code",
   "execution_count": 9,
   "id": "powers-function",
   "metadata": {},
   "outputs": [
    {
     "data": {
      "text/plain": [
       "powers (generic function with 1 method)"
      ]
     },
     "execution_count": 9,
     "metadata": {},
     "output_type": "execute_result"
    }
   ],
   "source": [
    "function powers(x)\n",
    "    return x, x^2, x^3, x^4\n",
    "end"
   ]
  },
  {
   "cell_type": "markdown",
   "id": "powers-explanation",
   "metadata": {},
   "source": [
    "This syntax creates a tuple of values, and then this tuple is returned as a function output. The `powers` function returns the first four powers of the input `x`."
   ]
  },
  {
   "cell_type": "code",
   "execution_count": 10,
   "id": "powers-example",
   "metadata": {},
   "outputs": [
    {
     "data": {
      "text/plain": [
       "(2, 4, 8, 16)"
      ]
     },
     "execution_count": 10,
     "metadata": {},
     "output_type": "execute_result"
    }
   ],
   "source": [
    "ps = powers(2)\n",
    "ps"
   ]
  },
  {
   "cell_type": "code",
   "execution_count": 11,
   "id": "powers-type",
   "metadata": {},
   "outputs": [
    {
     "data": {
      "text/plain": [
       "NTuple{4, Int64}"
      ]
     },
     "execution_count": 11,
     "metadata": {},
     "output_type": "execute_result"
    }
   ],
   "source": [
    "typeof(ps)"
   ]
  },
  {
   "cell_type": "markdown",
   "id": "powers-unpack",
   "metadata": {},
   "source": [
    "Note that the function returns `NTuple{4, Int64}` which is a compact way of representing the type for a tuple of length `N = 4` where all elements are of the same type. Since the function returns a tuple, returned values can be directly unpacked into multiple variables. This can be done in the same way as unpacking [tuples](https://docs.julialang.org/en/v1/manual/types/#Tuples)."
   ]
  },
  {
   "cell_type": "code",
   "execution_count": 12,
   "id": "powers-unpack-example",
   "metadata": {},
   "outputs": [
    {
     "data": {
      "text/plain": [
       "8"
      ]
     },
     "execution_count": 12,
     "metadata": {},
     "output_type": "execute_result"
    }
   ],
   "source": [
    "x1, x2, x3, x4 = powers(2)\n",
    "x3"
   ]
  },
  {
   "cell_type": "markdown",
   "id": "exercise-power",
   "metadata": {},
   "source": [
    "### Exercise:\n",
    "\n",
    "Write function `power(x::Real, p::Integer)` that for a number $x$ and a (possibly negative) integer $p$ computes $x^p$ without using the `^` operator. Use only basic arithmetic operators `+`, `-`, `*`, `/` and the `if` condition. The annotation `p::Integer` ensures that the input `p` is always an integer.\n",
    "\n",
    "**Hint:** use recursion."
   ]
  },
  {
   "cell_type": "markdown",
   "id": "solution-power",
   "metadata": {},
   "source": [
    "<details>\n",
    "<summary><strong>Solution:</strong></summary>\n",
    "\n",
    "To use recursion, we have to split the computation into three parts:\n",
    "- `p = 0`: the function should return `1`.\n",
    "- `p > 0`: the function should be called recursively with arguments `x`, `p - 1` and the result should be multiplied by `x`.\n",
    "- `p < 0`: then it is equivalent to call the power function with arguments `1/x`, `-p`.\n",
    "\n",
    "These three cases can be defined using the `if-elseif` as follows:\n",
    "\n",
    "```julia\n",
    "function power(x::Real, p::Integer)\n",
    "    if p == 0\n",
    "        return 1\n",
    "    elseif p > 0\n",
    "        return x * power(x, p - 1)\n",
    "    else\n",
    "        return power(1/x, -p)\n",
    "    end\n",
    "end\n",
    "```\n",
    "\n",
    "We use type annotation for function arguments to ensure that the input arguments are always of the proper type. In the example above, the first argument must be a real number, and the second argument must be an integer.\n",
    "\n",
    "```julia\n",
    "power(2, 5)\n",
    "power(2, -2)\n",
    "power(2, 5) ≈ 2^5\n",
    "power(5, -3) ≈ 5^(-3)\n",
    "```\n",
    "\n",
    "If we call the function with arguments of wrong types, an error will occur.\n",
    "\n",
    "```julia\n",
    "power(2, 2.5)\n",
    "```\n",
    "\n",
    "We will discuss type annotation later in the section about methods.\n",
    "\n",
    "</details>"
   ]
  },
  {
   "cell_type": "markdown",
   "id": "one-line-functions",
   "metadata": {},
   "source": [
    "## One-line functions\n",
    "\n",
    "Besides the traditional function declaration syntax above, it is possible to define a function in a compact one-line form"
   ]
  },
  {
   "cell_type": "code",
   "execution_count": 13,
   "id": "plus-one-line",
   "metadata": {},
   "outputs": [
    {
     "data": {
      "text/plain": [
       "plus (generic function with 1 method)"
      ]
     },
     "execution_count": 13,
     "metadata": {},
     "output_type": "execute_result"
    }
   ],
   "source": [
    "plus(x, y) = x + y"
   ]
  },
  {
   "cell_type": "markdown",
   "id": "plus-one-line-explanation",
   "metadata": {},
   "source": [
    "that is equivalent to the previous definition of the `plus` function"
   ]
  },
  {
   "cell_type": "code",
   "execution_count": 14,
   "id": "plus-one-line-example",
   "metadata": {},
   "outputs": [
    {
     "data": {
      "text/plain": [
       "-2"
      ]
     },
     "execution_count": 14,
     "metadata": {},
     "output_type": "execute_result"
    }
   ],
   "source": [
    "plus(4, 5)\n",
    "plus(3, -5)"
   ]
  },
  {
   "cell_type": "markdown",
   "id": "math-function",
   "metadata": {},
   "source": [
    "This syntax is similar to mathematical notation, especially in combination with the Greek alphabet. For example, function\n",
    "\n",
    "$$\n",
    "f(\\varphi) = - 4 \\cdot \\sin\\left(\\varphi - \\frac{\\pi}{12}\\right)\n",
    "$$\n",
    "\n",
    "can be in Julia defined in an almost identical form."
   ]
  },
  {
   "cell_type": "code",
   "execution_count": 15,
   "id": "phi-function",
   "metadata": {},
   "outputs": [
    {
     "data": {
      "text/plain": [
       "f (generic function with 1 method)"
      ]
     },
     "execution_count": 15,
     "metadata": {},
     "output_type": "execute_result"
    }
   ],
   "source": [
    "f(φ) = -4sin(φ - π/12)"
   ]
  },
  {
   "cell_type": "markdown",
   "id": "one-line-complex",
   "metadata": {},
   "source": [
    "The one-line syntax also allows to create more complex functions with some intermediate calculations by using brackets and semicolons to separate expressions. The last expression in brackets is then returned as the function output."
   ]
  },
  {
   "cell_type": "code",
   "execution_count": 16,
   "id": "g-function",
   "metadata": {},
   "outputs": [
    {
     "data": {
      "text/plain": [
       "g (generic function with 1 method)"
      ]
     },
     "execution_count": 16,
     "metadata": {},
     "output_type": "execute_result"
    }
   ],
   "source": [
    "g(x) = (x -= 1; x *= 2; x)"
   ]
  },
  {
   "cell_type": "markdown",
   "id": "g-function-explanation",
   "metadata": {},
   "source": [
    "In this example, the `g` function subtracts `1` from the input `x` and then returns its multiplication by `2`."
   ]
  },
  {
   "cell_type": "code",
   "execution_count": 17,
   "id": "g-function-example",
   "metadata": {},
   "outputs": [
    {
     "data": {
      "text/plain": [
       "4"
      ]
     },
     "execution_count": 17,
     "metadata": {},
     "output_type": "execute_result"
    }
   ],
   "source": [
    "g(3)"
   ]
  },
  {
   "cell_type": "markdown",
   "id": "exercise-even",
   "metadata": {},
   "source": [
    "### Exercise:\n",
    "\n",
    "Write a one-line function that returns `true` if the input argument is an even number and `false` otherwise.\n",
    "\n",
    "**Hint:** use modulo function and [ternary operator](https://docs.julialang.org/en/v1/manual/control-flow/#man-ternary-operator) `?`."
   ]
  },
  {
   "cell_type": "markdown",
   "id": "solution-even",
   "metadata": {},
   "source": [
    "<details>\n",
    "<summary><strong>Solution:</strong></summary>\n",
    "\n",
    "From the section about the ternary operator, we know that the syntax\n",
    "\n",
    "```julia\n",
    "a ? b : c\n",
    "```\n",
    "\n",
    "means: *if `a` is true, evaluate `b`; otherwise, evaluate `c`*. Since even numbers are divisible by 2, we can check it by the modulo function `mod(x, 2) == 0`. This results in the following function.\n",
    "\n",
    "```julia\n",
    "even(x::Integer) = mod(x, 2) == 0 ? true : false\n",
    "```\n",
    "\n",
    "We again used type annotation to ensure that the argument is an integer.\n",
    "\n",
    "```julia\n",
    "even(11)\n",
    "even(14)\n",
    "```\n",
    "\n",
    "</details>"
   ]
  },
  {
   "cell_type": "markdown",
   "id": "optional-arguments",
   "metadata": {},
   "source": [
    "## Optional arguments\n",
    "\n",
    "It is advantageous to use predefined values as function arguments in many cases. Arguments with a default value are typically called optional arguments. Like in Python, optional arguments can be created by assigning a default value to the normal argument. The following function has only one argument, which is optional with the default value `world`."
   ]
  },
  {
   "cell_type": "code",
   "execution_count": 18,
   "id": "hello-function",
   "metadata": {},
   "outputs": [
    {
     "data": {
      "text/plain": [
       "hello (generic function with 2 methods)"
      ]
     },
     "execution_count": 18,
     "metadata": {},
     "output_type": "execute_result"
    }
   ],
   "source": [
    "hello(x = \"world\") = println(\"Hello $(x).\")"
   ]
  },
  {
   "cell_type": "markdown",
   "id": "hello-explanation",
   "metadata": {},
   "source": [
    "Since the argument is optional, we can call the function without it. In such a case, the default value is copied to the argument value. If the function is called with a non-default value, the default value is ignored."
   ]
  },
  {
   "cell_type": "code",
   "execution_count": 19,
   "id": "hello-examples",
   "metadata": {},
   "outputs": [
    {
     "name": "stdout",
     "output_type": "stream",
     "text": [
      "Hello world.\n",
      "Hello people.\n"
     ]
    }
   ],
   "source": [
    "hello()\n",
    "hello(\"people\")"
   ]
  },
  {
   "cell_type": "markdown",
   "id": "optional-multiple",
   "metadata": {},
   "source": [
    "In the same way, it is possible to define multiple optional arguments. It is even possible to define optional arguments that depend on other arguments. However, these arguments must be sorted: mandatory arguments must always precede optional arguments."
   ]
  },
  {
   "cell_type": "code",
   "execution_count": 20,
   "id": "powers-optional",
   "metadata": {},
   "outputs": [
    {
     "data": {
      "text/plain": [
       "powers (generic function with 4 methods)"
      ]
     },
     "execution_count": 20,
     "metadata": {},
     "output_type": "execute_result"
    }
   ],
   "source": [
    "powers(x, y = x*x, z = y*x, v = z*x) = x, y, z, v"
   ]
  },
  {
   "cell_type": "markdown",
   "id": "powers-optional-explanation",
   "metadata": {},
   "source": [
    "This function has one mandatory and three optional arguments. If only the first argument `x` is provided, the function returns its first four powers."
   ]
  },
  {
   "cell_type": "code",
   "execution_count": 21,
   "id": "powers-optional-example",
   "metadata": {},
   "outputs": [
    {
     "data": {
      "text/plain": [
       "(2, 4, 8, 16)"
      ]
     },
     "execution_count": 21,
     "metadata": {},
     "output_type": "execute_result"
    }
   ],
   "source": [
    "powers(2)"
   ]
  },
  {
   "cell_type": "code",
   "execution_count": 22,
   "id": "powers-optional-example-2",
   "metadata": {},
   "outputs": [
    {
     "data": {
      "text/plain": [
       "(2, 3, 6, 12)"
      ]
     },
     "execution_count": 22,
     "metadata": {},
     "output_type": "execute_result"
    }
   ],
   "source": [
    "powers(2, 3)"
   ]
  },
  {
   "cell_type": "markdown",
   "id": "optional-dependency",
   "metadata": {},
   "source": [
    "The optional arguments can depend only on the previously defined arguments; otherwise, an error occurs."
   ]
  },
  {
   "cell_type": "code",
   "execution_count": 23,
   "id": "optional-dependency-functions",
   "metadata": {},
   "outputs": [
    {
     "data": {
      "text/plain": [
       "g (generic function with 3 methods)"
      ]
     },
     "execution_count": 23,
     "metadata": {},
     "output_type": "execute_result"
    }
   ],
   "source": [
    "f(x = 1, y = x) = (x, y)\n",
    "g(x = y, y = 1) = (x, y)"
   ]
  },
  {
   "cell_type": "markdown",
   "id": "optional-dependency-explanation",
   "metadata": {},
   "source": [
    "The definition of `f` is correct, and the definition of `g` is incorrect since the variable `y` is not defined when we define `x`."
   ]
  },
  {
   "cell_type": "code",
   "execution_count": 24,
   "id": "optional-dependency-example",
   "metadata": {},
   "outputs": [
    {
     "data": {
      "text/plain": [
       "(1, 1)"
      ]
     },
     "execution_count": 24,
     "metadata": {},
     "output_type": "execute_result"
    }
   ],
   "source": [
    "f()"
   ]
  },
  {
   "cell_type": "code",
   "execution_count": 25,
   "id": "optional-dependency-error",
   "metadata": {},
   "outputs": [
    {
     "ename": "LoadError",
     "evalue": "UndefVarError: `y` not defined",
     "output_type": "error",
     "traceback": [
      "UndefVarError: `y` not defined",
      "",
      "Stacktrace:",
      " [1] g()",
      "   @ Main ./In[23]:2",
      " [2] top-level scope",
      "   @ In[25]:1"
     ]
    }
   ],
   "source": [
    "g()"
   ]
  },
  {
   "cell_type": "markdown",
   "id": "exercise-quadratic",
   "metadata": {},
   "source": [
    "### Exercise:\n",
    "\n",
    "Write a function which computes the value of the following quadratic form\n",
    "\n",
    "$$\n",
    "q_{a,b,c}(x,y) = ax^2 + bxy + cy^2,\n",
    "$$\n",
    "\n",
    "where $a, b, c, x \\in \\mathbb{R}$. Use optional arguments to set default values for parameters\n",
    "\n",
    "$$\n",
    "a = 1, \\quad b = 2a, \\quad c = 3(a + b).\n",
    "$$\n",
    "\n",
    "What is the function value at point $(4, 2)$ for default parameters? What is the function value at the same point if we use $c = 3$?"
   ]
  },
  {
   "cell_type": "markdown",
   "id": "solution-quadratic",
   "metadata": {},
   "source": [
    "<details>\n",
    "<summary><strong>Solution:</strong></summary>\n",
    "\n",
    "The quadratic form can be implemented as follows:\n",
    "\n",
    "```julia\n",
    "q(x, y, a = 1, b = 2a, c = 3*(a + b)) = a*x^2 + b*x*y + c*y^2\n",
    "```\n",
    "\n",
    "Since we want to evaluate $q$ at $(4, 2)$ with default parameters, we can use only the first two arguments.\n",
    "\n",
    "```julia\n",
    "q(4, 2)\n",
    "```\n",
    "\n",
    "In the second case, we want to evaluate the function at the same point with $c = 3$. However, it is not possible to set only the last optional argument. We have to set all previous optional arguments too. For the first two optional arguments, we use the default values, i.e., `a = 1` and `b = 2*a = 2`.\n",
    "\n",
    "```julia\n",
    "q(4, 2, 1, 2, 3)\n",
    "```\n",
    "\n",
    "</details>"
   ]
  },
  {
   "cell_type": "markdown",
   "id": "keyword-arguments",
   "metadata": {},
   "source": [
    "## Keyword arguments\n",
    "\n",
    "The previous exercise shows the most significant disadvantage of optional arguments: It is impossible to change only one optional argument unless it is the first one. Luckily, keyword arguments can fix this issue. The syntax is the same as for optional arguments, with one exception: Use a semicolon before the first keyword argument."
   ]
  },
  {
   "cell_type": "code",
   "execution_count": 26,
   "id": "linear-function",
   "metadata": {},
   "outputs": [
    {
     "data": {
      "text/plain": [
       "linear (generic function with 1 method)"
      ]
     },
     "execution_count": 26,
     "metadata": {},
     "output_type": "execute_result"
    }
   ],
   "source": [
    "linear(x; a = 1, b = 0) = a*x + b"
   ]
  },
  {
   "cell_type": "markdown",
   "id": "linear-explanation",
   "metadata": {},
   "source": [
    "This function is a simple linear function, where `a` represents the slope, and `b` means the intercept. We can call the function with the mandatory arguments only."
   ]
  },
  {
   "cell_type": "code",
   "execution_count": 27,
   "id": "linear-example",
   "metadata": {},
   "outputs": [
    {
     "data": {
      "text/plain": [
       "2"
      ]
     },
     "execution_count": 27,
     "metadata": {},
     "output_type": "execute_result"
    }
   ],
   "source": [
    "linear(2)"
   ]
  },
  {
   "cell_type": "markdown",
   "id": "linear-keyword",
   "metadata": {},
   "source": [
    "We can also change the value of any keyword argument by assigning a new value to its name."
   ]
  },
  {
   "cell_type": "code",
   "execution_count": 28,
   "id": "linear-keyword-examples",
   "metadata": {},
   "outputs": [
    {
     "data": {
      "text/plain": [
       "8"
      ]
     },
     "execution_count": 28,
     "metadata": {},
     "output_type": "execute_result"
    }
   ],
   "source": [
    "linear(2; a = 2)\n",
    "linear(2; b = 4)\n",
    "linear(2; a = 2, b = 4)"
   ]
  },
  {
   "cell_type": "markdown",
   "id": "linear-warning",
   "metadata": {},
   "source": [
    "The semicolon is not mandatory and can be omitted. Moreover, the order of keyword arguments is arbitrary. It is even possible to mix keyword arguments with positional arguments, as shown in the following example."
   ]
  },
  {
   "cell_type": "code",
   "execution_count": 29,
   "id": "linear-mixed",
   "metadata": {},
   "outputs": [
    {
     "data": {
      "text/plain": [
       "8"
      ]
     },
     "execution_count": 29,
     "metadata": {},
     "output_type": "execute_result"
    }
   ],
   "source": [
    "linear(b = 4, 2, a = 2) # If you use this, you will burn in hell :D"
   ]
  },
  {
   "cell_type": "markdown",
   "id": "linear-warning-explanation",
   "metadata": {},
   "source": [
    "However, this is a horrible practice and should never be used."
   ]
  },
  {
   "cell_type": "markdown",
   "id": "keyword-shortcut",
   "metadata": {},
   "source": [
    "Julia also provides one nice feature to pass keyword arguments. Imagine that we have variables `a` and `b`, and we want to pass them as keyword arguments to the `linear` function defined above. The standard way is:"
   ]
  },
  {
   "cell_type": "code",
   "execution_count": 30,
   "id": "keyword-standard",
   "metadata": {},
   "outputs": [
    {
     "data": {
      "text/plain": [
       "8"
      ]
     },
     "execution_count": 30,
     "metadata": {},
     "output_type": "execute_result"
    }
   ],
   "source": [
    "a, b = 2, 4\n",
    "linear(2; a = a, b = b)"
   ]
  },
  {
   "cell_type": "markdown",
   "id": "keyword-shortcut-explanation",
   "metadata": {},
   "source": [
    "Julia allows a shorter version which can be used if the variable name and the name of the keyword argument are the same. In such a case, we may use the following simplification."
   ]
  },
  {
   "cell_type": "code",
   "execution_count": 31,
   "id": "keyword-shortcut-example",
   "metadata": {},
   "outputs": [
    {
     "data": {
      "text/plain": [
       "8"
      ]
     },
     "execution_count": 31,
     "metadata": {},
     "output_type": "execute_result"
    }
   ],
   "source": [
    "linear(2; a, b)"
   ]
  },
  {
   "cell_type": "markdown",
   "id": "exercise-gaussian",
   "metadata": {},
   "source": [
    "### Exercise:\n",
    "\n",
    "Write a probability density function for the [Gaussian distribution](https://en.wikipedia.org/wiki/Normal_distribution)\n",
    "\n",
    "$$\n",
    "f_{\\mu, \\sigma}(x) = \\frac{1}{\\sigma \\sqrt{ 2\\pi }} \\exp\\left\\{ -\\frac{1}{2} \\left( \\frac{x - \\mu}{\\sigma} \\right) ^2 \\right\\},\n",
    "$$\n",
    "\n",
    "where $\\mu \\in \\mathbb{R}$ and $\\sigma^2 > 0$. Use keyword arguments to obtain the standardized normal distribution ($\\mu = 0$ and $\\sigma = 1$). Check that the inputs are correct.\n",
    "\n",
    "**Bonus:** verify that this function is a probability density function, i.e., its integral equals 1."
   ]
  },
  {
   "cell_type": "markdown",
   "id": "solution-gaussian",
   "metadata": {},
   "source": [
    "<details>\n",
    "<summary><strong>Solution:</strong></summary>\n",
    "\n",
    "The probability density function for the Gaussian distribution equals to\n",
    "\n",
    "```julia\n",
    "function gauss(x::Real; μ::Real = 0, σ::Real = 1)\n",
    "    σ^2 > 0 || error(\"the variance `σ^2` must be positive\")\n",
    "    return exp(-1/2 * ((x - μ)/σ)^2)/(σ * sqrt(2*π))\n",
    "end\n",
    "```\n",
    "\n",
    "We used type annotation to ensure that all input arguments are real numbers. We also checked whether the standard deviation $\\sigma$ is positive.\n",
    "\n",
    "```julia\n",
    "gauss(0)\n",
    "gauss(0.1; μ = 1, σ = 1)\n",
    "```\n",
    "\n",
    "The integral of the probability density function over all real numbers should equal one. We can check it numerically by discretizing the integral into a finite sum.\n",
    "\n",
    "```julia\n",
    "step = 0.01\n",
    "x = -100:step:100;\n",
    "sum(gauss, x) * step\n",
    "g(x) = gauss(x; μ = -1, σ = 1.4);\n",
    "sum(g, x) * step\n",
    "```\n",
    "\n",
    "We use the `sum` function, which can accept a function as the first argument and apply it to each value before summation. The result is the same as `sum(gauss.(x))`. The difference is that the former, similarly to generators, does not allocate an array. The summation is then multiplied by the stepsize `0.01` to approximate the continuous interval `[-100, 100]`.\n",
    "\n",
    "We can also visualize the probability density functions with the [Plots.jl](https://github.com/JuliaPlots/Plots.jl) package.\n",
    "\n",
    "```julia\n",
    "using Plots\n",
    "x = -15:0.1:15\n",
    "plot(x, gauss.(x); label = \"μ = 0, σ = 1\", linewidth = 2, xlabel = \"x\", ylabel = \"f(x)\")\n",
    "plot!(x, gauss.(x; μ = 4, σ = 2); label = \"μ = 4, σ = 2\", linewidth = 2)\n",
    "plot!(x, gauss.(x; μ = -3, σ = 2); label = \"μ = -3, σ = 2\", linewidth = 2)\n",
    "```\n",
    "\n",
    "</details>"
   ]
  },
  {
   "cell_type": "markdown",
   "id": "variable-arguments",
   "metadata": {},
   "source": [
    "## Variable number of arguments\n",
    "\n",
    "It may be convenient to define a function that accepts any number of arguments. Such functions are traditionally known as *varargs* functions (abbreviation for *variable number of arguments*). Julia defines the varargs functions by the triple-dot syntax (splat operator) after the last positional argument."
   ]
  },
  {
   "cell_type": "code",
   "execution_count": 32,
   "id": "nargs-function",
   "metadata": {},
   "outputs": [
    {
     "data": {
      "text/plain": [
       "nargs (generic function with 1 method)"
      ]
     },
     "execution_count": 32,
     "metadata": {},
     "output_type": "execute_result"
    }
   ],
   "source": [
    "nargs(x...) = println(\"Number of arguments: \", length(x))"
   ]
  },
  {
   "cell_type": "markdown",
   "id": "nargs-explanation",
   "metadata": {},
   "source": [
    "The arguments to this function are packed into a tuple `x` and then the length of this tuple (the number of input arguments) is printed. The input arguments may have different types."
   ]
  },
  {
   "cell_type": "code",
   "execution_count": 33,
   "id": "nargs-examples",
   "metadata": {},
   "outputs": [
    {
     "name": "stdout",
     "output_type": "stream",
     "text": [
      "Number of arguments: 0\n",
      "Number of arguments: 5\n"
     ]
    }
   ],
   "source": [
    "nargs()\n",
    "nargs(1, 2, \"a\", :b, [1,2,3])"
   ]
  },
  {
   "cell_type": "markdown",
   "id": "splat-operator",
   "metadata": {},
   "source": [
    "The splat operator can also be used to pass multiple arguments to a function. Imagine the situation, where we want to use values of a tuple as arguments to a function. We can do this manually."
   ]
  },
  {
   "cell_type": "code",
   "execution_count": 34,
   "id": "splat-example",
   "metadata": {},
   "outputs": [
    {
     "name": "stdout",
     "output_type": "stream",
     "text": [
      "Number of arguments: 3\n"
     ]
    }
   ],
   "source": [
    "args = (1, 2, 3)\n",
    "nargs(args[1], args[2], args[3])"
   ]
  },
  {
   "cell_type": "markdown",
   "id": "splat-operator-explanation",
   "metadata": {},
   "source": [
    "The simpler way is to use the splat operator to unpack the tuple of arguments directly to the function."
   ]
  },
  {
   "cell_type": "code",
   "execution_count": 35,
   "id": "splat-operator-example",
   "metadata": {},
   "outputs": [
    {
     "name": "stdout",
     "output_type": "stream",
     "text": [
      "Number of arguments: 3\n"
     ]
    }
   ],
   "source": [
    "nargs(args...)"
   ]
  },
  {
   "cell_type": "markdown",
   "id": "splat-difference",
   "metadata": {},
   "source": [
    "This is different from the case where the tuple is not unpacked."
   ]
  },
  {
   "cell_type": "code",
   "execution_count": 36,
   "id": "splat-difference-example",
   "metadata": {},
   "outputs": [
    {
     "name": "stdout",
     "output_type": "stream",
     "text": [
      "Number of arguments: 1\n"
     ]
    }
   ],
   "source": [
    "nargs(args)"
   ]
  },
  {
   "cell_type": "markdown",
   "id": "splat-iterable",
   "metadata": {},
   "source": [
    "The same syntax can be used for any iterable object, such as ranges or arrays."
   ]
  },
  {
   "cell_type": "code",
   "execution_count": 37,
   "id": "splat-iterable-examples",
   "metadata": {},
   "outputs": [
    {
     "name": "stdout",
     "output_type": "stream",
     "text": [
      "Number of arguments: 1\n",
      "Number of arguments: 100\n",
      "Number of arguments: 1\n",
      "Number of arguments: 5\n"
     ]
    }
   ],
   "source": [
    "nargs(1:100)\n",
    "nargs(1:100...)\n",
    "nargs([1,2,3,4,5])\n",
    "nargs([1,2,3,4,5]...)"
   ]
  },
  {
   "cell_type": "markdown",
   "id": "varargs-keyword",
   "metadata": {},
   "source": [
    "It is also possible to use the same syntax to define a function with an arbitrary number of keyword arguments. Consider the following situation, where we want to define a function that computes the modulo of a number and then rounds the result. To define this function, we can use the combination of the `mod` and `round` functions. Since `round` has many keyword arguments, we want to have an option to use them. In such a case, we can use the following syntax to define the `roundmod` function."
   ]
  },
  {
   "cell_type": "code",
   "execution_count": 38,
   "id": "roundmod-function",
   "metadata": {},
   "outputs": [
    {
     "data": {
      "text/plain": [
       "roundmod (generic function with 1 method)"
      ]
     },
     "execution_count": 38,
     "metadata": {},
     "output_type": "execute_result"
    }
   ],
   "source": [
    "roundmod(x, y; kwargs...) = round(mod(x, y); kwargs...)"
   ]
  },
  {
   "cell_type": "markdown",
   "id": "roundmod-explanation",
   "metadata": {},
   "source": [
    "With this simple syntax, we can pass all keyword arguments to the `round` function without defining them in the `roundmod` function."
   ]
  },
  {
   "cell_type": "code",
   "execution_count": 39,
   "id": "roundmod-examples",
   "metadata": {},
   "outputs": [
    {
     "data": {
      "text/plain": [
       "2.5"
      ]
     },
     "execution_count": 39,
     "metadata": {},
     "output_type": "execute_result"
    }
   ],
   "source": [
    "roundmod(12.529, 5)\n",
    "roundmod(12.529, 5; digits = 2)\n",
    "roundmod(12.529, 5; sigdigits = 2)"
   ]
  },
  {
   "cell_type": "markdown",
   "id": "exercise-wrapper",
   "metadata": {},
   "source": [
    "### Exercise:\n",
    "\n",
    "Write a function `wrapper`, that accepts a number and applies one of `round`, `ceil` or `floor` functions based on the keyword argument `type`. Use the function to solve the following tasks:\n",
    "- Round `1252.1518` to the nearest larger integer and convert the resulting value to `Int64`.\n",
    "- Round `1252.1518` to the nearest smaller integer and convert the resulting value to `Int16`.\n",
    "- Round `1252.1518` to `2` digits after the decimal point.\n",
    "- Round `1252.1518` to `3` significant digits."
   ]
  },
  {
   "cell_type": "markdown",
   "id": "solution-wrapper",
   "metadata": {},
   "source": [
    "<details>\n",
    "<summary><strong>Solution:</strong></summary>\n",
    "\n",
    "The one way to define this function is the `if-elseif-else` statement.\n",
    "\n",
    "```julia\n",
    "function wrapper(x...; type = :round, kwargs...)\n",
    "    if type == :ceil\n",
    "        return ceil(x...; kwargs...)\n",
    "    elseif type == :floor\n",
    "        return floor(x...; kwargs...)\n",
    "    else\n",
    "        return round(x...; kwargs...)\n",
    "    end\n",
    "end\n",
    "```\n",
    "\n",
    "The `type` keyword argument is used to determine which function should be used. We use an optional number of arguments as well as an optional number of keyword arguments.\n",
    "\n",
    "```julia\n",
    "x = 1252.1518\n",
    "wrapper(Int64, x; type = :ceil)\n",
    "wrapper(Int16, x; type = :floor)\n",
    "wrapper(x; digits = 2)\n",
    "wrapper(x; sigdigits = 3)\n",
    "```\n",
    "\n",
    "The second way to solve this exercise is to use the fact that it is possible to pass functions as arguments. We can omit the `if` conditions and directly pass the appropriate function.\n",
    "\n",
    "```julia\n",
    "wrapper_new(x...; type = round, kwargs...) = type(x...; kwargs...)\n",
    "```\n",
    "\n",
    "In the function definition, we use the `type` keyword argument as a function and not as a symbol.\n",
    "\n",
    "```julia\n",
    "wrapper_new(1.123; type = ceil)\n",
    "```\n",
    "\n",
    "If we use, for example, a `Symbol` instead of a function, an error will occur.\n",
    "\n",
    "```julia\n",
    "wrapper_new(1.123; type = :ceil)\n",
    "```\n",
    "\n",
    "Finally, we can test the `wrapper_new` function with the same arguments as for the `wrapper` function.\n",
    "\n",
    "```julia\n",
    "x = 1252.1518\n",
    "wrapper_new(Int64, x; type = ceil)\n",
    "wrapper_new(Int16, x; type = floor)\n",
    "wrapper_new(x; digits = 2)\n",
    "wrapper_new(x; sigdigits = 3)\n",
    "```\n",
    "\n",
    "</details>"
   ]
  },
  {
   "cell_type": "markdown",
   "id": "anonymous-functions",
   "metadata": {},
   "source": [
    "## Anonymous functions\n",
    "\n",
    "It is also common to use anonymous functions, i.e., functions without a specified name. Anonymous functions can be defined in almost the same way as normal functions."
   ]
  },
  {
   "cell_type": "code",
   "execution_count": null,
   "id": "anonymous-example",
   "metadata": {},
   "outputs": [],
   "source": [
    "h1 = function (x)\n",
    "    x^2 + 2x - 1\n",
    "end\n",
    "h2 = x -> x^2 + 2x - 1"
   ]
  },
  {
   "cell_type": "markdown",
   "id": "anonymous-explanation",
   "metadata": {},
   "source": [
    "Those two function declarations create functions with automatically generated names. Then variables `h1` and `h2` only refer to these functions. The primary use for anonymous functions is passing them to functions that take other functions as arguments such as the `plot` function."
   ]
  },
  {
   "cell_type": "code",
   "execution_count": null,
   "id": "plot-anonymous",
   "metadata": {},
   "outputs": [],
   "source": [
    "using Plots\n",
    "\n",
    "f(x, a) = (x + a)^2\n",
    "plot(-1:0.01:1, x -> f(x, 0.5))"
   ]
  },
  {
   "cell_type": "markdown",
   "id": "anonymous-map",
   "metadata": {},
   "source": [
    "Another example is the `map` function, which applies a function to each value of an iterable object and returns a new array containing the resulting values."
   ]
  },
  {
   "cell_type": "code",
   "execution_count": null,
   "id": "map-anonymous",
   "metadata": {},
   "outputs": [],
   "source": [
    "map(x -> x^2 + 2x - 1, [1, 3, -1])"
   ]
  },
  {
   "cell_type": "markdown",
   "id": "do-block",
   "metadata": {},
   "source": [
    "Julia also provides the reserved word `do` to create anonymous functions. The following example is slightly more complicated. The `do ... end` block creates an anonymous function with inputs `(x, y)`, which prints them and returns their sum. This anonymous function is then passed to `map` as the first argument."
   ]
  },
  {
   "cell_type": "code",
   "execution_count": null,
   "id": "do-block-example",
   "metadata": {},
   "outputs": [],
   "source": [
    "map([1, 3, -1], [2, 4, -2]) do x, y\n",
    "    println(\"x = $(x), y = $(y)\")\n",
    "    return x + y\n",
    "end"
   ]
  },
  {
   "cell_type": "markdown",
   "id": "do-block-explanation",
   "metadata": {},
   "source": [
    "However, it is usually better to create an actual function beforehand."
   ]
  },
  {
   "cell_type": "code",
   "execution_count": null,
   "id": "function-f",
   "metadata": {},
   "outputs": [],
   "source": [
    "function f(x, y)\n",
    "    println(\"x = $(x), y = $(y)\")\n",
    "    return x + y\n",
    "end"
   ]
  },
  {
   "cell_type": "markdown",
   "id": "function-f-explanation",
   "metadata": {},
   "source": [
    "and then use it as the first argument of the `map` function."
   ]
  },
  {
   "cell_type": "code",
   "execution_count": null,
   "id": "map-f",
   "metadata": {},
   "outputs": [],
   "source": [
    "map(f, [1, 3, -1], [2, 4, -2])"
   ]
  },
  {
   "cell_type": "markdown",
   "id": "anonymous-uses",
   "metadata": {},
   "source": [
    "There are many possible uses quite different from the `map` function, such as managing system state. For example, the following code ensures that the opened file is eventually closed.\n",
    "\n",
    "```julia\n",
    "open(\"outfile\", \"w\") do io\n",
    "    write(io, data)\n",
    "end\n",
    "```"
   ]
  },
  {
   "cell_type": "markdown",
   "id": "vectorizing-functions",
   "metadata": {},
   "source": [
    "## Dot syntax for vectorizing functions\n",
    "\n",
    "In technical-computing languages, it is common to have *vectorized* versions of functions. Consider that we have a function `f(x)`. Its vectorized version is a function that applies function `f` to each element of an array `A` and returns a new array `f(A)`. Such functions are beneficial in languages where loops are slow and vectorized versions of functions are written in a low-level language (C, Fortran,...) and are much faster.\n",
    "\n",
    "In Julia, vectorized functions are not required for performance, and indeed it is often beneficial to write loops. They can still be convenient. Consider computing the sine function for all elements of `[0, π/2, 3π/4]`. We can do this by using a loop."
   ]
  },
  {
   "cell_type": "code",
   "execution_count": null,
   "id": "sine-loop",
   "metadata": {},
   "outputs": [],
   "source": [
    "x = [0, π/2, 3π/4];\n",
    "A = zeros(length(x));\n",
    "for (i, xi) in enumerate(x)\n",
    "    A[i] = sin(xi)\n",
    "end\n",
    "A"
   ]
  },
  {
   "cell_type": "markdown",
   "id": "list-comprehension",
   "metadata": {},
   "source": [
    "Or by a list comprehension."
   ]
  },
  {
   "cell_type": "code",
   "execution_count": null,
   "id": "sine-comprehension",
   "metadata": {},
   "outputs": [],
   "source": [
    "A = [sin(xi) for xi in x]\n",
    "A"
   ]
  },
  {
   "cell_type": "markdown",
   "id": "dot-syntax",
   "metadata": {},
   "source": [
    "However, the most convenient way is to use dot syntax for vectorizing functions."
   ]
  },
  {
   "cell_type": "code",
   "execution_count": null,
   "id": "sine-dot",
   "metadata": {},
   "outputs": [],
   "source": [
    "A = sin.(x)\n",
    "A"
   ]
  },
  {
   "cell_type": "markdown",
   "id": "dot-syntax-explanation",
   "metadata": {},
   "source": [
    "It is possible to use this syntax for any function to apply it to each element of iterable inputs. This allows us to write simple functions which accept, for example, only numbers as arguments, and then we can easily apply them to arrays."
   ]
  },
  {
   "cell_type": "code",
   "execution_count": null,
   "id": "plus-real",
   "metadata": {},
   "outputs": [],
   "source": [
    "plus(x::Real, y::Real) = x + y"
   ]
  },
  {
   "cell_type": "markdown",
   "id": "plus-real-explanation",
   "metadata": {},
   "source": [
    "We defined a function that accepts two real numbers and returns their sum. This function works only for two numbers."
   ]
  },
  {
   "cell_type": "code",
   "execution_count": null,
   "id": "plus-real-examples",
   "metadata": {},
   "outputs": [],
   "source": [
    "plus(1, 3)\n",
    "plus(1.4, 2.7)"
   ]
  },
  {
   "cell_type": "markdown",
   "id": "plus-array-error",
   "metadata": {},
   "source": [
    "If we try to apply this function to arrays, an error occurs."
   ]
  },
  {
   "cell_type": "code",
   "execution_count": null,
   "id": "plus-array-error-example",
   "metadata": {},
   "outputs": [],
   "source": [
    "x = [1, 2, 3, 4]; # column vector\n",
    "plus(x, x)"
   ]
  },
  {
   "cell_type": "markdown",
   "id": "plus-dot",
   "metadata": {},
   "source": [
    "However, we can use the dot syntax for vectorizing functions. The `plus` function will then be applied to arrays `x` and `y` element-wise."
   ]
  },
  {
   "cell_type": "code",
   "execution_count": null,
   "id": "plus-dot-example",
   "metadata": {},
   "outputs": [],
   "source": [
    "plus.(x, x)"
   ]
  },
  {
   "cell_type": "markdown",
   "id": "broadcast-function",
   "metadata": {},
   "source": [
    "More generally, if we have a function `f` and use dot syntax `f.(args...)`, then it is equivalent to calling the `broadcast` function as in `broadcast(f, args...)`."
   ]
  },
  {
   "cell_type": "code",
   "execution_count": null,
   "id": "broadcast-example",
   "metadata": {},
   "outputs": [],
   "source": [
    "broadcast(plus, x, x)"
   ]
  },
  {
   "cell_type": "markdown",
   "id": "broadcast-shapes",
   "metadata": {},
   "source": [
    "The dot syntax allows us to operate on multiple arrays even of different shapes. The following example takes a column vector and a row vector, broadcasts them into the matrix (the smallest superset of both vectors) and then performs the sum."
   ]
  },
  {
   "cell_type": "code",
   "execution_count": null,
   "id": "broadcast-shapes-example",
   "metadata": {},
   "outputs": [],
   "source": [
    "y = [1 2 3 4]; # row vector\n",
    "plus.(x, y)"
   ]
  },
  {
   "cell_type": "markdown",
   "id": "broadcast-scalar",
   "metadata": {},
   "source": [
    "Similarly, it can be used to broadcast a scalar to a vector in the following examples."
   ]
  },
  {
   "cell_type": "code",
   "execution_count": null,
   "id": "broadcast-scalar-example",
   "metadata": {},
   "outputs": [],
   "source": [
    "plus.(x, 1)"
   ]
  },
  {
   "cell_type": "markdown",
   "id": "broadcast-reference",
   "metadata": {},
   "source": [
    "For more information, see the section about [broadcasting](https://docs.julialang.org/en/v1/manual/arrays/#Broadcasting) in the official documentation."
   ]
  },
  {
   "cell_type": "markdown",
   "id": "function-composition",
   "metadata": {},
   "source": [
    "## Function composition and piping\n",
    "\n",
    "As in mathematics, functions in Julia can be composed. If we have two functions $f: \\mathcal{X}  \\rightarrow \\mathcal{Y}$ and $g: \\mathcal{Y}  \\rightarrow \\mathcal{Z}$, then their [composition](https://en.wikipedia.org/wiki/Function_composition) can be mathematically written as\n",
    "\n",
    "$$\n",
    "(g \\circ f)(x) = g(f(x)), \\quad \\forall x \\in \\mathcal{X}.\n",
    "$$\n",
    "\n",
    "We can compose functions using the function composition operator `∘` (can be typed by `\\circ<tab>`)."
   ]
  },
  {
   "cell_type": "code",
   "execution_count": null,
   "id": "composition-example",
   "metadata": {},
   "outputs": [],
   "source": [
    "(sqrt ∘ +)(3, 6) # equivalent to sqrt(3 + 6)"
   ]
  },
  {
   "cell_type": "markdown",
   "id": "composition-multiple",
   "metadata": {},
   "source": [
    "It is even possible to compose multiple functions at once."
   ]
  },
  {
   "cell_type": "code",
   "execution_count": null,
   "id": "composition-multiple-example",
   "metadata": {},
   "outputs": [],
   "source": [
    "(sqrt ∘ abs ∘ sum)([-3, -6, -7])  # equivalent to sqrt(abs(sum([-3, -6, -7])))"
   ]
  },
  {
   "cell_type": "markdown",
   "id": "piping",
   "metadata": {},
   "source": [
    "*Piping* or *using a pipe* is another concept of chaining functions. It can be used to pass the output of one function as an input to another one. In Julia, it can be done by the pipe operator `|>`."
   ]
  },
  {
   "cell_type": "code",
   "execution_count": null,
   "id": "pipe-example",
   "metadata": {},
   "outputs": [],
   "source": [
    "[-3, -6, -7] |> sum |> abs |> sqrt"
   ]
  },
  {
   "cell_type": "markdown",
   "id": "pipe-broadcasting",
   "metadata": {},
   "source": [
    "The pipe operator can be combined with broadcasting."
   ]
  },
  {
   "cell_type": "code",
   "execution_count": null,
   "id": "pipe-broadcasting-example",
   "metadata": {},
   "outputs": [],
   "source": [
    "[-4, 9, -16] .|> abs .|> sqrt"
   ]
  },
  {
   "cell_type": "markdown",
   "id": "pipe-broadcasting-different",
   "metadata": {},
   "source": [
    "Or as in the next example, we can use broadcasting in combination with the pipe operator to apply a different function to each element of the given vector."
   ]
  },
  {
   "cell_type": "code",
   "execution_count": null,
   "id": "pipe-broadcasting-different-example",
   "metadata": {},
   "outputs": [],
   "source": [
    "[\"a\", \"list\", \"of\", \"strings\"] .|> [uppercase, reverse, titlecase, length]"
   ]
  }
 ],
 "metadata": {
  "kernelspec": {
   "display_name": "Julia 1.10.5",
   "language": "julia",
   "name": "julia-1.10"
  },
  "language_info": {
   "file_extension": ".jl",
   "mimetype": "application/julia",
   "name": "julia",
   "version": "1.10.5"
  }
 },
 "nbformat": 4,
 "nbformat_minor": 5
}
