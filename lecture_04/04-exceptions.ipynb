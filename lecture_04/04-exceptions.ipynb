{
 "cells": [
  {
   "cell_type": "markdown",
   "id": "exception-handling",
   "metadata": {},
   "source": [
    "# Exception handling\n",
    "\n",
    "Unexpected behaviour may often occur during running code, which may lead to the situation that some function cannot return a reasonable value. Such behaviour should be handled by either terminating the program with a proper diagnostic error message or allowing that code to take appropriate action.\n",
    "\n",
    "In the following example, we define a factorial function in the same way as we did in the [Short-circuit evaluation](#Short-circuit-evaluation) section."
   ]
  },
  {
   "cell_type": "code",
   "execution_count": null,
   "id": "fact-function",
   "metadata": {},
   "outputs": [],
   "source": [
    "function fact(n)\n",
    "    isinteger(n) && n >= 0 || error(\"argument must be non-negative integer\")\n",
    "    return n == 0 ? 1 : n * fact(n - 1)\n",
    "end"
   ]
  },
  {
   "cell_type": "markdown",
   "id": "fact-explanation",
   "metadata": {},
   "source": [
    "We use the `error` function, which throws the `ErrorException` if the input argument does not meet the given conditions. This function works quite well and returns a reasonable error message for incorrect inputs."
   ]
  },
  {
   "cell_type": "code",
   "execution_count": null,
   "id": "fact-error-examples",
   "metadata": {},
   "outputs": [],
   "source": [
    "fact(1.4)"
   ]
  },
  {
   "cell_type": "code",
   "execution_count": null,
   "id": "97af03d2",
   "metadata": {},
   "outputs": [],
   "source": [
    "fact(-5)"
   ]
  },
  {
   "cell_type": "markdown",
   "id": "domain-error",
   "metadata": {},
   "source": [
    "However, it is better to use error messages as descriptive as possible. In the case above, the error message can also include the argument value. Julia provides several predefined types of exceptions that can be used to create more descriptive error messages. In our example, we want to check whether the argument is a non-negative integer. The more specific `DomainError` can do this."
   ]
  },
  {
   "cell_type": "code",
   "execution_count": null,
   "id": "fact-domain-error",
   "metadata": {},
   "outputs": [],
   "source": [
    "function fact(n)\n",
    "    isinteger(n) && n >= 0 || throw(DomainError(n, \"argument must be non-negative integer\"))\n",
    "    return n == 0 ? 1 : n * fact(n - 1)\n",
    "end"
   ]
  },
  {
   "cell_type": "markdown",
   "id": "throw-explanation",
   "metadata": {},
   "source": [
    "We must use the `throw` function because the `DomainError(n, msg)` function only creates an instance of the type `DomainError`, but it does not raise an error."
   ]
  },
  {
   "cell_type": "code",
   "execution_count": null,
   "id": "632c0746",
   "metadata": {},
   "outputs": [],
   "source": [
    "fact(1.4)"
   ]
  },
  {
   "cell_type": "code",
   "execution_count": null,
   "id": "fact-domain-error-examples",
   "metadata": {},
   "outputs": [],
   "source": [
    "fact(-5)"
   ]
  },
  {
   "cell_type": "markdown",
   "id": "method-error",
   "metadata": {},
   "source": [
    "The error message now contains a short description, the input value, and the type of exception. Now imagine that due to an error, the `fact` function is used to calculate the factorial from a string."
   ]
  },
  {
   "cell_type": "code",
   "execution_count": null,
   "id": "fact-string-error",
   "metadata": {},
   "outputs": [],
   "source": [
    "fact(\"a\")"
   ]
  },
  {
   "cell_type": "markdown",
   "id": "method-error-explanation",
   "metadata": {},
   "source": [
    "In this case, the `MethodError` is raised for the `isinteger` function. Since the `DomainError` function is not even called, the error says nothing about the `fact` function. We can track that the error occurs when calling the `fact` function using the `Stacktrace` section located under the error message. The `Stacktrace` provides us with an ordered list of function calls (starting from the last one) that preceded the error. In this case, the last function call before the error is `fact(::String)`. It tells us that the error occurs in the function `fact` with a string as the input argument. In this particular case, it makes sense to define factorial function only for real numbers. This can be done by entering the input type in the function declaration."
   ]
  },
  {
   "cell_type": "code",
   "execution_count": null,
   "id": "fact-new-function",
   "metadata": {},
   "outputs": [],
   "source": [
    "function fact_new(n::Real)\n",
    "    isinteger(n) && n >= 0 || throw(DomainError(n, \"argument must be non-negative integer\"))\n",
    "    return n == 0 ? 1 : n * fact_new(n - 1)\n",
    "end"
   ]
  },
  {
   "cell_type": "markdown",
   "id": "fact-new-explanation",
   "metadata": {},
   "source": [
    "This function declaration will only work for subtypes of `Real`. Otherwise, the `MethodError` will occur."
   ]
  },
  {
   "cell_type": "code",
   "execution_count": null,
   "id": "fact-new-string-error",
   "metadata": {},
   "outputs": [],
   "source": [
    "fact_new(\"aaa\")"
   ]
  },
  {
   "cell_type": "markdown",
   "id": "method-error-details",
   "metadata": {},
   "source": [
    "The `MethodError` provides two important pieces of information. First, it states that the `fact_new` function is not defined for arguments of type `String`. Second, it shows the list of methods closest to the one we called. In this case, the `fact_new` function has only one method, which works for any subtype of `Real`. This can be verified by using the `methods` function."
   ]
  },
  {
   "cell_type": "code",
   "execution_count": null,
   "id": "methods-fact-new",
   "metadata": {},
   "outputs": [],
   "source": [
    "methods(fact_new)"
   ]
  },
  {
   "cell_type": "markdown",
   "id": "exception-documentation",
   "metadata": {},
   "source": [
    "A more precise description and a list of all predefined exception types can be found in the official [documentation](https://docs.julialang.org/en/v1/manual/control-flow/#Exception-Handling)."
   ]
  }
 ],
 "metadata": {
  "kernelspec": {
   "display_name": "Julia 1.10.5",
   "language": "julia",
   "name": "julia-1.10"
  },
  "language_info": {
   "file_extension": ".jl",
   "mimetype": "application/julia",
   "name": "julia",
   "version": "1.10.5"
  }
 },
 "nbformat": 4,
 "nbformat_minor": 5
}
