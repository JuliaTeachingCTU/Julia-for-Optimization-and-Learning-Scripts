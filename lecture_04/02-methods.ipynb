{
 "cells": [
  {
   "cell_type": "code",
   "execution_count": null,
   "id": "ab5fea3b",
   "metadata": {},
   "outputs": [],
   "source": [
    "using Pkg\n",
    "Pkg.activate(\".\")"
   ]
  },
  {
   "cell_type": "markdown",
   "id": "methods",
   "metadata": {},
   "source": [
    "# Methods\n",
    "\n",
    "So far, we defined all functions (with some exceptions) without annotating the types of input arguments. When the type annotation is omitted, the default behaviour in Julia is to allow values to be of any type. One can write many useful functions without stating the types. When additional expressiveness is needed, it is easy to introduce type annotations into previously *untyped* code.\n",
    "\n",
    "In Julia, one function consists of multiple methods. A prime example is the `convert` function. When a user calls a function, the process of choosing which method to execute is called dispatch. The dispatch system in Julia decides which method to execute based on:\n",
    "\n",
    "- the number of function arguments;\n",
    "- the types of function arguments.\n",
    "\n",
    "Using all function arguments to choose which method should be invoked is known as **multiple dispatch**.\n",
    "\n",
    "As an example of multiple dispatch, we define the `product` function that computes the product of two numbers."
   ]
  },
  {
   "cell_type": "code",
   "execution_count": null,
   "id": "product-function",
   "metadata": {},
   "outputs": [],
   "source": [
    "product(x, y) = x * y"
   ]
  },
  {
   "cell_type": "markdown",
   "id": "product-explanation",
   "metadata": {},
   "source": [
    "In the REPL, we can see that the `product` function has only one method. In this case, we defined the method for any two input arguments without type specification."
   ]
  },
  {
   "cell_type": "code",
   "execution_count": null,
   "id": "product-examples",
   "metadata": {},
   "outputs": [],
   "source": [
    "product(1, 4.5)\n",
    "product(2.4, 3.1)"
   ]
  },
  {
   "cell_type": "markdown",
   "id": "methods-function",
   "metadata": {},
   "source": [
    "The `methods` function lists all methods for a function."
   ]
  },
  {
   "cell_type": "code",
   "execution_count": null,
   "id": "methods-product",
   "metadata": {},
   "outputs": [],
   "source": [
    "methods(product)"
   ]
  },
  {
   "cell_type": "markdown",
   "id": "product-error",
   "metadata": {},
   "source": [
    "Because we did not specify types of input arguments, the `product` function accepts arguments of all types. For some inputs, such as symbols, the `*` operator will not work."
   ]
  },
  {
   "cell_type": "code",
   "execution_count": null,
   "id": "product-error-example",
   "metadata": {},
   "outputs": [],
   "source": [
    "product(:a, :b)"
   ]
  },
  {
   "cell_type": "markdown",
   "id": "product-type-annotation",
   "metadata": {},
   "source": [
    "We can avoid such errors by specifying types of input arguments. Since we want to create a function that computes the product of two numbers, it makes sense to allow input arguments to be only numbers."
   ]
  },
  {
   "cell_type": "code",
   "execution_count": null,
   "id": "product-type-annotated",
   "metadata": {},
   "outputs": [],
   "source": [
    "product(x::Number, y::Number) = x * y\n",
    "product(x, y) = throw(ArgumentError(\"product is defined for numbers only.\"))"
   ]
  },
  {
   "cell_type": "code",
   "execution_count": null,
   "id": "methods-product-updated",
   "metadata": {},
   "outputs": [],
   "source": [
    "methods(product)"
   ]
  },
  {
   "cell_type": "markdown",
   "id": "product-updated-explanation",
   "metadata": {},
   "source": [
    "Now, we have a function with two methods, that returns a product if the input arguments are numbers, and throws an error otherwise."
   ]
  },
  {
   "cell_type": "code",
   "execution_count": null,
   "id": "product-updated-examples",
   "metadata": {},
   "outputs": [],
   "source": [
    "product(1, 4.5)"
   ]
  },
  {
   "cell_type": "code",
   "execution_count": null,
   "id": "759e6ae7",
   "metadata": {},
   "outputs": [],
   "source": [
    "product(:a, :b)"
   ]
  },
  {
   "cell_type": "code",
   "execution_count": null,
   "id": "5f42549e",
   "metadata": {},
   "outputs": [],
   "source": [
    "product(\"a\", \"b\")"
   ]
  },
  {
   "cell_type": "markdown",
   "id": "type-hierarchy",
   "metadata": {},
   "source": [
    "## Type hierarchy\n",
    "\n",
    "It is always better to use abstract types like `Number` or `Real` instead of concrete types like `Float64`, `Float32`, or `Int64`. The reason is that if we use an abstract type, the function will work for all its subtypes. To find a supertype for a specific type, we can use the `supertype` function from the `InteractiveUtils` package."
   ]
  },
  {
   "cell_type": "code",
   "execution_count": null,
   "id": "supertype-example",
   "metadata": {},
   "outputs": [],
   "source": [
    "using InteractiveUtils: supertype\n",
    "supertype(Float64)"
   ]
  },
  {
   "cell_type": "markdown",
   "id": "supertype-explanation",
   "metadata": {},
   "source": [
    "The problem with the `supertype` function is that it does not return the whole supertype hierarchy, but only the closest *larger* supertype. For `Float64` the closest larger supertype is `AbstractFloat`. However, as in the example above, we do not want to use this supertype, since then the function will only work for floating point numbers."
   ]
  },
  {
   "cell_type": "markdown",
   "id": "exercise-supertypes",
   "metadata": {},
   "source": [
    "### Exercise:\n",
    "\n",
    "Create a function `supertypes_tree` which prints the whole tree of all supertypes. If the input type `T` satisfies the following condition `T === Any`, then the function should do nothing. Use the following function declaration:\n",
    "\n",
    "```julia\n",
    "function supertypes_tree(T::Type, level::Int = 0)\n",
    "    # code\n",
    "end\n",
    "```\n",
    "\n",
    "The optional argument `level` sets the printing indentation level.\n",
    "\n",
    "**Hints:**\n",
    "- Use the `supertype` function in combination with recursion.\n",
    "- Use the `repeat` function and string with white space `\"    \"` to create a proper indentation."
   ]
  },
  {
   "cell_type": "markdown",
   "id": "solution-supertypes",
   "metadata": {},
   "source": [
    "<details>\n",
    "<summary><strong>Solution:</strong></summary>\n",
    "\n",
    "\n",
    "```julia\n",
    "function supertypes_tree(T::Type, level::Int = 0)\n",
    "    isequal(T, Any) && return\n",
    "    println(repeat(\"   \", level), T)\n",
    "    supertypes_tree(supertype(T), level + 1)\n",
    "    return\n",
    "end\n",
    "```\n",
    "\n",
    "The first line checks if the given input type is `Any`. If yes, then the function returns nothing. Otherwise, the function prints the type with a proper indentation provided by `repeat(\"   \", level)`, i.e., four white-spaces repeated `level`-times. The third line calls the `supertypes_tree` function recursively for the supertype of the input type `T` and the level of indentation `level + 1`.\n",
    "\n",
    "</details>"
   ]
  },
  {
   "cell_type": "markdown",
   "id": "supertypes-tree-example",
   "metadata": {},
   "source": [
    "Now we can use the `supertypes_tree` function to get the whole supertype hierarchy for `Float64`."
   ]
  },
  {
   "cell_type": "code",
   "execution_count": null,
   "id": "supertypes-tree-float64",
   "metadata": {},
   "outputs": [],
   "source": [
    "supertypes_tree(Float64)"
   ]
  },
  {
   "cell_type": "code",
   "execution_count": null,
   "id": "type-hierarchy-check",
   "metadata": {},
   "outputs": [],
   "source": [
    "Float64 <: AbstractFloat <: Real <: Number"
   ]
  },
  {
   "cell_type": "markdown",
   "id": "subtypes-function",
   "metadata": {},
   "source": [
    "Similarly to the `supertype` function, there is the `subtypes` function that returns all subtypes for the given type."
   ]
  },
  {
   "cell_type": "code",
   "execution_count": null,
   "id": "subtypes-example",
   "metadata": {},
   "outputs": [],
   "source": [
    "using InteractiveUtils: subtypes\n",
    "subtypes(Number)"
   ]
  },
  {
   "cell_type": "markdown",
   "id": "exercise-subtypes",
   "metadata": {},
   "source": [
    "### Exercise:\n",
    "\n",
    "Create a function `subtypes_tree` which prints the whole tree of all subtypes for the given type. Use the following function declaration:\n",
    "\n",
    "```julia\n",
    "function subtypes_tree(T::Type, level::Int = 0)\n",
    "    # code\n",
    "end\n",
    "```\n",
    "\n",
    "The optional argument `level` sets the printing indentation level.\n",
    "\n",
    "**Hints:**\n",
    "- Use the `subtypes` function in combination with recursion.\n",
    "- Use the `repeat` function and string with white space `\"    \"` to create a proper indentation."
   ]
  },
  {
   "cell_type": "markdown",
   "id": "solution-subtypes",
   "metadata": {},
   "source": [
    "<details>\n",
    "<summary><strong>Solution:</strong></summary>\n",
    "\n",
    "The `subtypes_tree` function is similar to `supertypes_tree`. The only differences are that we do not need to check for the top level of `Any`, and that we need to call the vectorized version `subtypes_tree.` because `subtypes(T)` returns an array.\n",
    "\n",
    "```julia\n",
    "function subtypes_tree(T::Type, level::Int = 0)\n",
    "    println(repeat(\"   \", level), T)\n",
    "    subtypes_tree.(subtypes(T), level + 1)\n",
    "    return\n",
    "end\n",
    "```\n",
    "\n",
    "</details>"
   ]
  },
  {
   "cell_type": "markdown",
   "id": "subtypes-tree-number",
   "metadata": {},
   "source": [
    "Now we can use the `subtypes_tree` function to get the whole subtypes hierarchy for the `Number` type."
   ]
  },
  {
   "cell_type": "code",
   "execution_count": null,
   "id": "subtypes-tree-number-example",
   "metadata": {},
   "outputs": [],
   "source": [
    "subtypes_tree(Number)"
   ]
  },
  {
   "cell_type": "markdown",
   "id": "multiple-dispatch",
   "metadata": {},
   "source": [
    "## Multiple dispatch\n",
    "\n",
    "Now we can go back to our example with the `product` function. The problem with this function is that it is too restrictive because the product of two strings is a legitimate operation that should return their concatenation. We should define a method for strings. To use the proper type, we can use the `supertypes_tree` function for the `String` type."
   ]
  },
  {
   "cell_type": "code",
   "execution_count": null,
   "id": "supertypes-string",
   "metadata": {},
   "outputs": [],
   "source": [
    "supertypes_tree(String)"
   ]
  },
  {
   "cell_type": "markdown",
   "id": "product-string",
   "metadata": {},
   "source": [
    "We see that the *largest* supertype for `String` is `AbstractString`. This leads to"
   ]
  },
  {
   "cell_type": "code",
   "execution_count": null,
   "id": "product-string-method",
   "metadata": {},
   "outputs": [],
   "source": [
    "product(x::AbstractString, y::AbstractString) = x * y\n",
    "product(x, y) = throw(ArgumentError(\"product is defined for numbers and strings only.\"))"
   ]
  },
  {
   "cell_type": "markdown",
   "id": "product-string-examples",
   "metadata": {},
   "source": [
    "We also redefined the original definition of the `product` function to throw an appropriate error."
   ]
  },
  {
   "cell_type": "code",
   "execution_count": null,
   "id": "product-string-examples-code",
   "metadata": {},
   "outputs": [],
   "source": [
    "product(1, 4.5)"
   ]
  },
  {
   "cell_type": "code",
   "execution_count": null,
   "id": "7a6c02ac",
   "metadata": {},
   "outputs": [],
   "source": [
    "product(\"a\", \"b\")"
   ]
  },
  {
   "cell_type": "code",
   "execution_count": null,
   "id": "10b9644f",
   "metadata": {},
   "outputs": [],
   "source": [
    "product(:a, :b)"
   ]
  },
  {
   "cell_type": "markdown",
   "id": "which-macro",
   "metadata": {},
   "source": [
    "Sometimes, it may be complicated to guess which method is used for concrete inputs. In such a case, there is a useful macro `@which` that returns the method that is called for given arguments."
   ]
  },
  {
   "cell_type": "code",
   "execution_count": null,
   "id": "which-macro-examples",
   "metadata": {},
   "outputs": [],
   "source": [
    "using InteractiveUtils: @which\n",
    "@which product(1, 4.5)"
   ]
  },
  {
   "cell_type": "code",
   "execution_count": null,
   "id": "7ee4a00f",
   "metadata": {},
   "outputs": [],
   "source": [
    "@which product(\"a\", :a)"
   ]
  },
  {
   "cell_type": "code",
   "execution_count": null,
   "id": "7cbac5c3",
   "metadata": {},
   "outputs": [],
   "source": [
    "@which product(\"a\", \"b\")"
   ]
  },
  {
   "cell_type": "markdown",
   "id": "g-function-example",
   "metadata": {},
   "source": [
    "The previous example with the `product` function shows how methods in Julia works. However, it is a good practice to use type annotation only if we want to have a specialized function or if we want to define a function, which does different things for different types of input arguments."
   ]
  },
  {
   "cell_type": "code",
   "execution_count": null,
   "id": "269091c7",
   "metadata": {},
   "outputs": [],
   "source": [
    "g(x::Real) = x + 1\n",
    "g(x::String) = repeat(x, 4)"
   ]
  },
  {
   "cell_type": "markdown",
   "id": "a0c8aa6e",
   "metadata": {},
   "source": [
    "For example, the `g` function returns `x + 1` if the input `x` is a real number or repeats four times the input argument if it is a string. Otherwise, it will throw a method error."
   ]
  },
  {
   "cell_type": "code",
   "execution_count": null,
   "id": "g-function-examples",
   "metadata": {},
   "outputs": [],
   "source": [
    "g(1.2)"
   ]
  },
  {
   "cell_type": "code",
   "execution_count": null,
   "id": "3e486c39",
   "metadata": {},
   "outputs": [],
   "source": [
    "g(\"a\")"
   ]
  },
  {
   "cell_type": "code",
   "execution_count": null,
   "id": "32b2e458",
   "metadata": {},
   "outputs": [],
   "source": [
    "g(:a)"
   ]
  },
  {
   "cell_type": "markdown",
   "id": "cb2a39ca",
   "metadata": {},
   "source": [
    "#### Note\n",
    "\n",
    "The `product` function should be defined without the type annotation. It is a good practice not to restrict input argument types unless necessary. The reason is that, in this case, there is no benefit of using the type annotation. It is better to define the function `product_new` by:"
   ]
  },
  {
   "cell_type": "code",
   "execution_count": null,
   "id": "781fc217",
   "metadata": {},
   "outputs": [],
   "source": [
    "product_new(x, y) = x * y"
   ]
  },
  {
   "cell_type": "markdown",
   "id": "6ab7af4d",
   "metadata": {},
   "source": [
    "Then we can apply this function to the same inputs as the original `product` function, and we will get the same results"
   ]
  },
  {
   "cell_type": "code",
   "execution_count": null,
   "id": "a4ced587",
   "metadata": {},
   "outputs": [],
   "source": [
    "product(1, 4.5)"
   ]
  },
  {
   "cell_type": "code",
   "execution_count": null,
   "id": "9dbee434",
   "metadata": {},
   "outputs": [],
   "source": [
    "product_new(1, 4.5)"
   ]
  },
  {
   "cell_type": "code",
   "execution_count": null,
   "id": "59fe66cf",
   "metadata": {},
   "outputs": [],
   "source": [
    "product(\"a\", \"b\")"
   ]
  },
  {
   "cell_type": "code",
   "execution_count": null,
   "id": "feb07d60",
   "metadata": {},
   "outputs": [],
   "source": [
    "product_new(\"a\", \"b\")"
   ]
  },
  {
   "cell_type": "markdown",
   "id": "38a1861b",
   "metadata": {},
   "source": [
    "with only one exception"
   ]
  },
  {
   "cell_type": "code",
   "execution_count": null,
   "id": "85ab9494",
   "metadata": {},
   "outputs": [],
   "source": [
    "product(\"a\", :a)"
   ]
  },
  {
   "cell_type": "code",
   "execution_count": null,
   "id": "0a26409d",
   "metadata": {},
   "outputs": [],
   "source": [
    "product_new(\"a\", :a)"
   ]
  },
  {
   "cell_type": "markdown",
   "id": "c92b3c0a",
   "metadata": {},
   "source": [
    "Here we get a different error. However, the error returned by the `product_new` function is more useful because it tells us what the real problem is. We can see that it is impossible to use the `*` operator to multiply a `String` and a `Symbol`. We can decide if this is the desired behaviour, and if not, we can define a method for the `*` operator that will fix it."
   ]
  },
  {
   "cell_type": "markdown",
   "id": "exercise-students",
   "metadata": {},
   "source": [
    "### Exercise:\n",
    "\n",
    "We define the abstract type `Student` and specific types `Master` and `Doctoral`. The latter two are defined as structures containing one and three fields, respectively.\n",
    "\n",
    "```julia\n",
    "abstract type Student end\n",
    "\n",
    "struct Master <: Student\n",
    "    salary\n",
    "end\n",
    "\n",
    "struct Doctoral <: Student\n",
    "    salary\n",
    "    exam_mid::Bool\n",
    "    exam_english::Bool\n",
    "end\n",
    "```\n",
    "\n",
    "We can check that the `subtypes_tree` works correctly on any type, including the type `Student` which we defined.\n",
    "\n",
    "```julia\n",
    "subtypes_tree(Student)\n",
    "```\n",
    "\n",
    "We create instances of two students by providing values for the struct fields.\n",
    "\n",
    "```julia\n",
    "s1 = Master(5000)\n",
    "s2 = Doctoral(30000, 1, 0)\n",
    "```\n",
    "\n",
    "Write the `salary_yearly` function which computes the yearly salary for both student types. The monthly salary is computed from the base salary (which can be accessed via `s1.salary`). Monthly bonus for doctoral students is 2000 for the mid exam and 1000 for the English exam."
   ]
  },
  {
   "cell_type": "markdown",
   "id": "solution-students",
   "metadata": {},
   "source": [
    "<details>\n",
    "<summary><strong>Solution:</strong></summary>\n",
    "\n",
    "Julia prefers to write many simple functions. We write `salary_yearly` based on the not-yet-defined `salary_monthly` function.\n",
    "\n",
    "```julia\n",
    "salary_yearly(s::Student) = 12 * salary_monthly(s)\n",
    "```\n",
    "\n",
    "We specified that the input to `salary_yearly` is any `Student`. Since `Student` is an abstract type, we can call `salary_yearly` with both `Master` and `Doctoral` student. Now we need to define the `salary_monthly` function. Since the salary is computed in different ways for both students, we write two methods.\n",
    "\n",
    "```julia\n",
    "salary_monthly(s::Master) = s.salary\n",
    "salary_monthly(s::Doctoral) = s.salary + s.exam_mid * 2000 + s.exam_english * 1000\n",
    "```\n",
    "\n",
    "Both methods have the same name (they are the same function) but have different inputs. While the first one is used for `Master` students, the second one for `Doctoral` students. Now we print the salary.\n",
    "\n",
    "```julia\n",
    "println(\"The yearly salary is $(salary_yearly(s1)).\")\n",
    "println(\"The yearly salary is $(salary_yearly(s2)).\")\n",
    "```\n",
    "\n",
    "</details>"
   ]
  },
  {
   "cell_type": "markdown",
   "id": "method-ambiguities",
   "metadata": {},
   "source": [
    "## Method ambiguities\n",
    "\n",
    "It is possible to define a set of function methods with no most specific method applicable to some combinations of arguments."
   ]
  },
  {
   "cell_type": "code",
   "execution_count": null,
   "id": "ambiguity-example",
   "metadata": {},
   "outputs": [],
   "source": [
    "f(x::Float64, y) = x * y\n",
    "f(x, y::Float64) = x + y"
   ]
  },
  {
   "cell_type": "markdown",
   "id": "ambiguity-explanation",
   "metadata": {},
   "source": [
    "Here, `f` has two methods. The first method applies if the first argument is of type `Float64`, and the second method applies if the second argument is of type `Float64`."
   ]
  },
  {
   "cell_type": "code",
   "execution_count": null,
   "id": "ambiguity-examples",
   "metadata": {},
   "outputs": [],
   "source": [
    "f(2.0, 3)\n",
    "f(2, 3.0)"
   ]
  },
  {
   "cell_type": "markdown",
   "id": "ambiguity-error",
   "metadata": {},
   "source": [
    "Both methods can be used if both arguments are of type `Float64`. The problem is that neither method is more specific than the other. This results in `MethodError`."
   ]
  },
  {
   "cell_type": "code",
   "execution_count": null,
   "id": "ambiguity-error-example",
   "metadata": {},
   "outputs": [],
   "source": [
    "f(2.0, 3.0)"
   ]
  },
  {
   "cell_type": "markdown",
   "id": "ambiguity-fix",
   "metadata": {},
   "source": [
    "We can avoid method ambiguities by specifying an appropriate method for the intersection case."
   ]
  },
  {
   "cell_type": "code",
   "execution_count": null,
   "id": "ambiguity-fix-example",
   "metadata": {},
   "outputs": [],
   "source": [
    "f(x::Float64, y::Float64) = x - y"
   ]
  },
  {
   "cell_type": "markdown",
   "id": "ambiguity-fix-explanation",
   "metadata": {},
   "source": [
    "Now `f` has three methods."
   ]
  },
  {
   "cell_type": "code",
   "execution_count": null,
   "id": "ambiguity-fix-test",
   "metadata": {},
   "outputs": [],
   "source": [
    "f(2.0, 3.0)"
   ]
  }
 ],
 "metadata": {
  "kernelspec": {
   "display_name": "Julia 1.10.5",
   "language": "julia",
   "name": "julia-1.10"
  },
  "language_info": {
   "file_extension": ".jl",
   "mimetype": "application/julia",
   "name": "julia",
   "version": "1.10.5"
  }
 },
 "nbformat": 4,
 "nbformat_minor": 5
}
